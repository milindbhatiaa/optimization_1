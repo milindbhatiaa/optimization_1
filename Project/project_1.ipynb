{
 "cells": [
  {
   "cell_type": "code",
   "execution_count": 1,
   "metadata": {},
   "outputs": [],
   "source": [
    "import numpy as np\n",
    "import gurobipy as gp\n",
    "import pandas as pd"
   ]
  },
  {
   "cell_type": "code",
   "execution_count": 19,
   "metadata": {},
   "outputs": [],
   "source": [
    "ind_data = pd.read_csv('index_data.csv')\n",
    "roi_data = pd.read_csv('ROI_data.csv')\n",
    "roi_mat = pd.read_csv('roi_mat.csv')"
   ]
  },
  {
   "cell_type": "code",
   "execution_count": 42,
   "metadata": {},
   "outputs": [],
   "source": [
    "first_roi = roi_data.iloc[0,1:]"
   ]
  },
  {
   "cell_type": "code",
   "execution_count": 43,
   "metadata": {},
   "outputs": [],
   "source": [
    "MarkMod=gp.Model()\n",
    "MarkModX = MarkMod.addMVar(10)"
   ]
  },
  {
   "cell_type": "code",
   "execution_count": 44,
   "metadata": {},
   "outputs": [],
   "source": [
    "MarkMod.setObjective(gp.quicksum(first_roi[i]*MarkModX[i] for i in range(10)),sense=gp.GRB.MAXIMIZE)"
   ]
  },
  {
   "cell_type": "code",
   "execution_count": 45,
   "metadata": {},
   "outputs": [],
   "source": [
    "conlist=[0]*4\n",
    "conlist[0] = MarkMod.addConstr(MarkModX[0] + MarkModX[1] <= MarkModX[4] + MarkModX[9])\n",
    "conlist[1] = MarkMod.addConstr(MarkModX[4] + MarkModX[5] + MarkModX[6] + MarkModX[7] + MarkModX[8] >= 2*(MarkModX[2] + MarkModX[3]))\n",
    "vari = MarkMod.addConstrs((MarkModX[i] <=3) for i in range(10))\n",
    "conlist[3] = MarkMod.addConstr(gp.quicksum(MarkModX[i]for i in range(10)) <= 10)"
   ]
  },
  {
   "cell_type": "code",
   "execution_count": 46,
   "metadata": {},
   "outputs": [
    {
     "data": {
      "text/plain": [
       "0.45600000000000007"
      ]
     },
     "execution_count": 46,
     "metadata": {},
     "output_type": "execute_result"
    }
   ],
   "source": [
    "MarkMod.Params.OutputFlag = 0\n",
    "MarkMod.optimize() # solve the model\n",
    "MarkMod.objVal # print the optimal objective value"
   ]
  },
  {
   "cell_type": "code",
   "execution_count": 72,
   "metadata": {},
   "outputs": [
    {
     "data": {
      "text/plain": [
       "array([0., 3., 0., 1., 0., 0., 3., 0., 0., 3.])"
      ]
     },
     "execution_count": 72,
     "metadata": {},
     "output_type": "execute_result"
    }
   ],
   "source": [
    "MarkModX.x # print the optimal decision variables"
   ]
  },
  {
   "cell_type": "markdown",
   "metadata": {},
   "source": [
    "#### Q2"
   ]
  },
  {
   "cell_type": "code",
   "execution_count": 54,
   "metadata": {},
   "outputs": [
    {
     "data": {
      "text/plain": [
       "Print        0.049\n",
       "TV           0.023\n",
       "SEO          0.024\n",
       "AdWords      0.039\n",
       "Facebook     0.044\n",
       "LinkedIn     0.046\n",
       "Instagram    0.026\n",
       "Snapchat     0.019\n",
       "Twitter      0.037\n",
       "Email        0.026\n",
       "Name: 1, dtype: object"
      ]
     },
     "execution_count": 54,
     "metadata": {},
     "output_type": "execute_result"
    }
   ],
   "source": [
    "sec_roi = roi_data.iloc[1,1:]\n",
    "sec_roi"
   ]
  },
  {
   "cell_type": "code",
   "execution_count": 55,
   "metadata": {},
   "outputs": [],
   "source": [
    "MarkMod2=gp.Model()\n",
    "MarkMod2X = MarkMod2.addMVar(10)"
   ]
  },
  {
   "cell_type": "code",
   "execution_count": 56,
   "metadata": {},
   "outputs": [],
   "source": [
    "MarkMod2.setObjective(gp.quicksum(sec_roi[i]*MarkMod2X[i] for i in range(10)),sense=gp.GRB.MAXIMIZE)"
   ]
  },
  {
   "cell_type": "code",
   "execution_count": 57,
   "metadata": {},
   "outputs": [],
   "source": [
    "conlist2=[0]*4\n",
    "conlist2[0] = MarkMod2.addConstr(MarkMod2X[0] + MarkMod2X[1] <= MarkMod2X[4] + MarkMod2X[9])\n",
    "conlist2[1] = MarkMod2.addConstr(MarkMod2X[4] + MarkMod2X[5] + MarkMod2X[6] + MarkMod2X[7] + MarkMod2X[8] >= 2*(MarkMod2X[2] + MarkMod2X[3]))\n",
    "vari2 = MarkMod2.addConstrs((MarkMod2X[i] <=3) for i in range(10))\n",
    "conlist2[3] = MarkMod2.addConstr(gp.quicksum(MarkMod2X[i]for i in range(10)) <= 10)"
   ]
  },
  {
   "cell_type": "code",
   "execution_count": 58,
   "metadata": {},
   "outputs": [
    {
     "data": {
      "text/plain": [
       "0.45600000000000007"
      ]
     },
     "execution_count": 58,
     "metadata": {},
     "output_type": "execute_result"
    }
   ],
   "source": [
    "MarkMod2.Params.OutputFlag = 0\n",
    "MarkMod2.optimize() # solve the model\n",
    "MarkMod2.objVal # print the optimal objective value"
   ]
  },
  {
   "cell_type": "code",
   "execution_count": 59,
   "metadata": {},
   "outputs": [
    {
     "data": {
      "text/plain": [
       "array([3., 0., 0., 1., 3., 3., 0., 0., 0., 0.])"
      ]
     },
     "execution_count": 59,
     "metadata": {},
     "output_type": "execute_result"
    }
   ],
   "source": [
    "MarkMod2X.x # print the optimal decision variables"
   ]
  },
  {
   "cell_type": "markdown",
   "metadata": {},
   "source": [
    "### Q5 - Do you think the third constraint above, based on your boss’ experience, is useful? - NEED TO WRITE INSIGHTS HERE"
   ]
  },
  {
   "cell_type": "code",
   "execution_count": 53,
   "metadata": {},
   "outputs": [
    {
     "data": {
      "text/plain": [
       "[array(0.),\n",
       " array(0.),\n",
       " array(0.),\n",
       " array(0.),\n",
       " array(0.),\n",
       " array(0.),\n",
       " array(0.007),\n",
       " array(0.),\n",
       " array(0.),\n",
       " array(0.015)]"
      ]
     },
     "execution_count": 53,
     "metadata": {},
     "output_type": "execute_result"
    }
   ],
   "source": [
    "[vari[i].Pi for i in range(10)]"
   ]
  },
  {
   "cell_type": "markdown",
   "metadata": {},
   "source": [
    "Make sense to add because 2 constraints are binding"
   ]
  },
  {
   "cell_type": "markdown",
   "metadata": {},
   "source": [
    "### Q6 - NEED TO WRITE INSIGHTS HERE"
   ]
  },
  {
   "cell_type": "code",
   "execution_count": 89,
   "metadata": {},
   "outputs": [
    {
     "data": {
      "text/plain": [
       "Print        0.031\n",
       "TV           0.049\n",
       "SEO          0.024\n",
       "AdWords      0.039\n",
       "Facebook     0.016\n",
       "LinkedIn     0.024\n",
       "Instagram    0.046\n",
       "Snapchat     0.026\n",
       "Twitter      0.033\n",
       "Email        0.044\n",
       "Name: 0, dtype: object"
      ]
     },
     "execution_count": 89,
     "metadata": {},
     "output_type": "execute_result"
    }
   ],
   "source": [
    "first_roi"
   ]
  },
  {
   "cell_type": "code",
   "execution_count": 60,
   "metadata": {},
   "outputs": [
    {
     "data": {
      "text/plain": [
       "array([ -inf, 0.039,  -inf, 0.033,  -inf,  -inf, 0.039,  -inf,  -inf,\n",
       "       0.029])"
      ]
     },
     "execution_count": 60,
     "metadata": {},
     "output_type": "execute_result"
    }
   ],
   "source": [
    "MarkModX.SAObjLow"
   ]
  },
  {
   "cell_type": "code",
   "execution_count": 61,
   "metadata": {},
   "outputs": [
    {
     "data": {
      "text/plain": [
       "array([0.049, 0.062, 0.039, 0.046, 0.029, 0.039,   inf, 0.039, 0.039,\n",
       "         inf])"
      ]
     },
     "execution_count": 61,
     "metadata": {},
     "output_type": "execute_result"
    }
   ],
   "source": [
    "MarkModX.SAObjUp"
   ]
  },
  {
   "cell_type": "code",
   "execution_count": 63,
   "metadata": {},
   "outputs": [
    {
     "data": {
      "text/plain": [
       "Print        0.049\n",
       "TV           0.023\n",
       "SEO          0.024\n",
       "AdWords      0.039\n",
       "Facebook     0.044\n",
       "LinkedIn     0.046\n",
       "Instagram    0.026\n",
       "Snapchat     0.019\n",
       "Twitter      0.037\n",
       "Email        0.026\n",
       "Name: 1, dtype: object"
      ]
     },
     "execution_count": 63,
     "metadata": {},
     "output_type": "execute_result"
    }
   ],
   "source": [
    "sec_roi"
   ]
  },
  {
   "cell_type": "code",
   "execution_count": 64,
   "metadata": {},
   "outputs": [
    {
     "data": {
      "text/plain": [
       "array([0.039 ,   -inf,   -inf, 0.0375, 0.029 , 0.039 ,   -inf,   -inf,\n",
       "         -inf,   -inf])"
      ]
     },
     "execution_count": 64,
     "metadata": {},
     "output_type": "execute_result"
    }
   ],
   "source": [
    "MarkMod2X.SAObjLow"
   ]
  },
  {
   "cell_type": "code",
   "execution_count": 65,
   "metadata": {},
   "outputs": [
    {
     "data": {
      "text/plain": [
       "array([0.052, 0.049, 0.039, 0.046,   inf,   inf, 0.039, 0.039, 0.039,\n",
       "       0.029])"
      ]
     },
     "execution_count": 65,
     "metadata": {},
     "output_type": "execute_result"
    }
   ],
   "source": [
    "MarkMod2X.SAObjUp"
   ]
  },
  {
   "cell_type": "markdown",
   "metadata": {},
   "source": [
    "### Q7"
   ]
  },
  {
   "cell_type": "code",
   "execution_count": 66,
   "metadata": {},
   "outputs": [
    {
     "data": {
      "text/html": [
       "<div>\n",
       "<style scoped>\n",
       "    .dataframe tbody tr th:only-of-type {\n",
       "        vertical-align: middle;\n",
       "    }\n",
       "\n",
       "    .dataframe tbody tr th {\n",
       "        vertical-align: top;\n",
       "    }\n",
       "\n",
       "    .dataframe thead th {\n",
       "        text-align: right;\n",
       "    }\n",
       "</style>\n",
       "<table border=\"1\" class=\"dataframe\">\n",
       "  <thead>\n",
       "    <tr style=\"text-align: right;\">\n",
       "      <th></th>\n",
       "      <th>Unnamed: 0</th>\n",
       "      <th>Print</th>\n",
       "      <th>TV</th>\n",
       "      <th>SEO</th>\n",
       "      <th>AdWords</th>\n",
       "      <th>Facebook</th>\n",
       "      <th>LinkedIn</th>\n",
       "      <th>Instagram</th>\n",
       "      <th>Snapchat</th>\n",
       "      <th>Twitter</th>\n",
       "      <th>Email</th>\n",
       "    </tr>\n",
       "  </thead>\n",
       "  <tbody>\n",
       "    <tr>\n",
       "      <th>0</th>\n",
       "      <td>January</td>\n",
       "      <td>4.0</td>\n",
       "      <td>3.6</td>\n",
       "      <td>2.4</td>\n",
       "      <td>3.9</td>\n",
       "      <td>3.0</td>\n",
       "      <td>3.5</td>\n",
       "      <td>3.6</td>\n",
       "      <td>2.25</td>\n",
       "      <td>3.5</td>\n",
       "      <td>3.5</td>\n",
       "    </tr>\n",
       "    <tr>\n",
       "      <th>1</th>\n",
       "      <td>February</td>\n",
       "      <td>4.0</td>\n",
       "      <td>3.9</td>\n",
       "      <td>2.7</td>\n",
       "      <td>3.8</td>\n",
       "      <td>4.3</td>\n",
       "      <td>3.2</td>\n",
       "      <td>2.7</td>\n",
       "      <td>1.80</td>\n",
       "      <td>3.7</td>\n",
       "      <td>3.5</td>\n",
       "    </tr>\n",
       "    <tr>\n",
       "      <th>2</th>\n",
       "      <td>March</td>\n",
       "      <td>3.5</td>\n",
       "      <td>2.9</td>\n",
       "      <td>3.1</td>\n",
       "      <td>3.8</td>\n",
       "      <td>2.4</td>\n",
       "      <td>4.1</td>\n",
       "      <td>3.7</td>\n",
       "      <td>2.60</td>\n",
       "      <td>4.2</td>\n",
       "      <td>2.5</td>\n",
       "    </tr>\n",
       "    <tr>\n",
       "      <th>3</th>\n",
       "      <td>April</td>\n",
       "      <td>3.8</td>\n",
       "      <td>3.1</td>\n",
       "      <td>2.4</td>\n",
       "      <td>4.4</td>\n",
       "      <td>2.4</td>\n",
       "      <td>3.8</td>\n",
       "      <td>3.7</td>\n",
       "      <td>2.50</td>\n",
       "      <td>3.6</td>\n",
       "      <td>2.9</td>\n",
       "    </tr>\n",
       "    <tr>\n",
       "      <th>4</th>\n",
       "      <td>May</td>\n",
       "      <td>3.5</td>\n",
       "      <td>3.2</td>\n",
       "      <td>1.9</td>\n",
       "      <td>3.4</td>\n",
       "      <td>2.7</td>\n",
       "      <td>2.7</td>\n",
       "      <td>3.9</td>\n",
       "      <td>2.20</td>\n",
       "      <td>4.5</td>\n",
       "      <td>3.9</td>\n",
       "    </tr>\n",
       "  </tbody>\n",
       "</table>\n",
       "</div>"
      ],
      "text/plain": [
       "  Unnamed: 0  Print   TV  SEO  AdWords  Facebook  LinkedIn  Instagram  \\\n",
       "0    January    4.0  3.6  2.4      3.9       3.0       3.5        3.6   \n",
       "1   February    4.0  3.9  2.7      3.8       4.3       3.2        2.7   \n",
       "2      March    3.5  2.9  3.1      3.8       2.4       4.1        3.7   \n",
       "3      April    3.8  3.1  2.4      4.4       2.4       3.8        3.7   \n",
       "4        May    3.5  3.2  1.9      3.4       2.7       2.7        3.9   \n",
       "\n",
       "   Snapchat  Twitter  Email  \n",
       "0      2.25      3.5    3.5  \n",
       "1      1.80      3.7    3.5  \n",
       "2      2.60      4.2    2.5  \n",
       "3      2.50      3.6    2.9  \n",
       "4      2.20      4.5    3.9  "
      ]
     },
     "execution_count": 66,
     "metadata": {},
     "output_type": "execute_result"
    }
   ],
   "source": [
    "roi_mat.head()"
   ]
  },
  {
   "cell_type": "code",
   "execution_count": 90,
   "metadata": {},
   "outputs": [
    {
     "data": {
      "text/html": [
       "<div>\n",
       "<style scoped>\n",
       "    .dataframe tbody tr th:only-of-type {\n",
       "        vertical-align: middle;\n",
       "    }\n",
       "\n",
       "    .dataframe tbody tr th {\n",
       "        vertical-align: top;\n",
       "    }\n",
       "\n",
       "    .dataframe thead th {\n",
       "        text-align: right;\n",
       "    }\n",
       "</style>\n",
       "<table border=\"1\" class=\"dataframe\">\n",
       "  <thead>\n",
       "    <tr style=\"text-align: right;\">\n",
       "      <th></th>\n",
       "      <th>January</th>\n",
       "      <th>February</th>\n",
       "      <th>March</th>\n",
       "      <th>April</th>\n",
       "      <th>May</th>\n",
       "      <th>June</th>\n",
       "      <th>July</th>\n",
       "      <th>August</th>\n",
       "      <th>September</th>\n",
       "      <th>October</th>\n",
       "      <th>November</th>\n",
       "      <th>December</th>\n",
       "    </tr>\n",
       "  </thead>\n",
       "  <tbody>\n",
       "    <tr>\n",
       "      <th>Print</th>\n",
       "      <td>3.000000</td>\n",
       "      <td>3.0000</td>\n",
       "      <td>0.000000</td>\n",
       "      <td>0.000000</td>\n",
       "      <td>1.8041</td>\n",
       "      <td>3.000000</td>\n",
       "      <td>1.123777</td>\n",
       "      <td>3.000000</td>\n",
       "      <td>1.362933</td>\n",
       "      <td>0.000000</td>\n",
       "      <td>3.000000</td>\n",
       "      <td>3.000000</td>\n",
       "    </tr>\n",
       "    <tr>\n",
       "      <th>TV</th>\n",
       "      <td>0.000000</td>\n",
       "      <td>0.0000</td>\n",
       "      <td>0.000000</td>\n",
       "      <td>0.000000</td>\n",
       "      <td>0.0000</td>\n",
       "      <td>0.000000</td>\n",
       "      <td>0.000000</td>\n",
       "      <td>0.000000</td>\n",
       "      <td>0.000000</td>\n",
       "      <td>0.000000</td>\n",
       "      <td>0.000000</td>\n",
       "      <td>3.000000</td>\n",
       "    </tr>\n",
       "    <tr>\n",
       "      <th>SEO</th>\n",
       "      <td>0.000000</td>\n",
       "      <td>0.0000</td>\n",
       "      <td>0.000000</td>\n",
       "      <td>0.000000</td>\n",
       "      <td>0.0000</td>\n",
       "      <td>0.000000</td>\n",
       "      <td>0.000000</td>\n",
       "      <td>0.000000</td>\n",
       "      <td>0.000000</td>\n",
       "      <td>0.000000</td>\n",
       "      <td>0.000000</td>\n",
       "      <td>0.000000</td>\n",
       "    </tr>\n",
       "    <tr>\n",
       "      <th>AdWords</th>\n",
       "      <td>1.333333</td>\n",
       "      <td>2.3955</td>\n",
       "      <td>3.000000</td>\n",
       "      <td>3.000000</td>\n",
       "      <td>0.0000</td>\n",
       "      <td>0.000000</td>\n",
       "      <td>3.000000</td>\n",
       "      <td>1.827294</td>\n",
       "      <td>3.000000</td>\n",
       "      <td>3.000000</td>\n",
       "      <td>2.056421</td>\n",
       "      <td>0.427951</td>\n",
       "    </tr>\n",
       "    <tr>\n",
       "      <th>Facebook</th>\n",
       "      <td>0.000000</td>\n",
       "      <td>3.0000</td>\n",
       "      <td>0.000000</td>\n",
       "      <td>0.000000</td>\n",
       "      <td>0.0000</td>\n",
       "      <td>0.000000</td>\n",
       "      <td>1.123777</td>\n",
       "      <td>0.000000</td>\n",
       "      <td>0.000000</td>\n",
       "      <td>0.000000</td>\n",
       "      <td>0.000000</td>\n",
       "      <td>3.000000</td>\n",
       "    </tr>\n",
       "    <tr>\n",
       "      <th>LinkedIn</th>\n",
       "      <td>0.000000</td>\n",
       "      <td>0.0000</td>\n",
       "      <td>3.000000</td>\n",
       "      <td>3.000000</td>\n",
       "      <td>0.0000</td>\n",
       "      <td>0.000000</td>\n",
       "      <td>0.000000</td>\n",
       "      <td>0.654588</td>\n",
       "      <td>3.000000</td>\n",
       "      <td>3.000000</td>\n",
       "      <td>1.112842</td>\n",
       "      <td>0.000000</td>\n",
       "    </tr>\n",
       "    <tr>\n",
       "      <th>Instagram</th>\n",
       "      <td>2.666667</td>\n",
       "      <td>0.0000</td>\n",
       "      <td>1.389648</td>\n",
       "      <td>3.000000</td>\n",
       "      <td>3.0000</td>\n",
       "      <td>3.000000</td>\n",
       "      <td>3.000000</td>\n",
       "      <td>0.000000</td>\n",
       "      <td>0.000000</td>\n",
       "      <td>3.000000</td>\n",
       "      <td>3.000000</td>\n",
       "      <td>0.000000</td>\n",
       "    </tr>\n",
       "    <tr>\n",
       "      <th>Snapchat</th>\n",
       "      <td>0.000000</td>\n",
       "      <td>0.0000</td>\n",
       "      <td>0.000000</td>\n",
       "      <td>0.000000</td>\n",
       "      <td>0.0000</td>\n",
       "      <td>0.000000</td>\n",
       "      <td>0.000000</td>\n",
       "      <td>0.000000</td>\n",
       "      <td>0.000000</td>\n",
       "      <td>0.000000</td>\n",
       "      <td>0.000000</td>\n",
       "      <td>0.000000</td>\n",
       "    </tr>\n",
       "    <tr>\n",
       "      <th>Twitter</th>\n",
       "      <td>0.000000</td>\n",
       "      <td>1.7910</td>\n",
       "      <td>3.000000</td>\n",
       "      <td>1.596856</td>\n",
       "      <td>3.0000</td>\n",
       "      <td>2.020172</td>\n",
       "      <td>3.000000</td>\n",
       "      <td>3.000000</td>\n",
       "      <td>3.000000</td>\n",
       "      <td>0.000000</td>\n",
       "      <td>0.000000</td>\n",
       "      <td>0.000000</td>\n",
       "    </tr>\n",
       "    <tr>\n",
       "      <th>Email</th>\n",
       "      <td>3.000000</td>\n",
       "      <td>0.0000</td>\n",
       "      <td>0.000000</td>\n",
       "      <td>0.000000</td>\n",
       "      <td>3.0000</td>\n",
       "      <td>3.000000</td>\n",
       "      <td>0.000000</td>\n",
       "      <td>3.000000</td>\n",
       "      <td>1.362933</td>\n",
       "      <td>2.955475</td>\n",
       "      <td>3.000000</td>\n",
       "      <td>3.000000</td>\n",
       "    </tr>\n",
       "  </tbody>\n",
       "</table>\n",
       "</div>"
      ],
      "text/plain": [
       "            January  February     March     April     May      June      July  \\\n",
       "Print      3.000000    3.0000  0.000000  0.000000  1.8041  3.000000  1.123777   \n",
       "TV         0.000000    0.0000  0.000000  0.000000  0.0000  0.000000  0.000000   \n",
       "SEO        0.000000    0.0000  0.000000  0.000000  0.0000  0.000000  0.000000   \n",
       "AdWords    1.333333    2.3955  3.000000  3.000000  0.0000  0.000000  3.000000   \n",
       "Facebook   0.000000    3.0000  0.000000  0.000000  0.0000  0.000000  1.123777   \n",
       "LinkedIn   0.000000    0.0000  3.000000  3.000000  0.0000  0.000000  0.000000   \n",
       "Instagram  2.666667    0.0000  1.389648  3.000000  3.0000  3.000000  3.000000   \n",
       "Snapchat   0.000000    0.0000  0.000000  0.000000  0.0000  0.000000  0.000000   \n",
       "Twitter    0.000000    1.7910  3.000000  1.596856  3.0000  2.020172  3.000000   \n",
       "Email      3.000000    0.0000  0.000000  0.000000  3.0000  3.000000  0.000000   \n",
       "\n",
       "             August  September   October  November  December  \n",
       "Print      3.000000   1.362933  0.000000  3.000000  3.000000  \n",
       "TV         0.000000   0.000000  0.000000  0.000000  3.000000  \n",
       "SEO        0.000000   0.000000  0.000000  0.000000  0.000000  \n",
       "AdWords    1.827294   3.000000  3.000000  2.056421  0.427951  \n",
       "Facebook   0.000000   0.000000  0.000000  0.000000  3.000000  \n",
       "LinkedIn   0.654588   3.000000  3.000000  1.112842  0.000000  \n",
       "Instagram  0.000000   0.000000  3.000000  3.000000  0.000000  \n",
       "Snapchat   0.000000   0.000000  0.000000  0.000000  0.000000  \n",
       "Twitter    3.000000   3.000000  0.000000  0.000000  0.000000  \n",
       "Email      3.000000   1.362933  2.955475  3.000000  3.000000  "
      ]
     },
     "execution_count": 90,
     "metadata": {},
     "output_type": "execute_result"
    }
   ],
   "source": [
    "months = roi_mat['Unnamed: 0'].tolist()\n",
    "reinvested_amount = 0\n",
    "month_allocation = {}\n",
    "counter = 0\n",
    "for m in months:\n",
    "    MarkMonthMod=gp.Model()\n",
    "    MarkMonthModX = MarkMonthMod.addMVar(10)\n",
    "    MarkMonthMod.setObjective(gp.quicksum((roi_mat.iloc[counter][i+1]/100)*MarkMonthModX[i] for i in range(10)),sense=gp.GRB.MAXIMIZE)\n",
    "    consls=[0]*3\n",
    "    consls[0] = MarkMonthMod.addConstr(MarkMonthModX[0] + MarkMonthModX[1] <= MarkMonthModX[4] + MarkMonthModX[9])\n",
    "    consls[1] = MarkMonthMod.addConstr(MarkMonthModX[4] + MarkMonthModX[5] + MarkMonthModX[6] + MarkMonthModX[7] + MarkMonthModX[8] >= 2*(MarkMonthModX[2] + MarkMonthModX[3]))\n",
    "    consls[2] = MarkMonthMod.addConstr(gp.quicksum(MarkMonthModX[i]for i in range(10)) <= (10 + reinvested_amount)) \n",
    "    varimonth = MarkMonthMod.addConstrs((MarkMonthModX[i] <=3) for i in range(10))\n",
    "    MarkMonthMod.Params.OutputFlag = 0\n",
    "    MarkMonthMod.optimize()\n",
    "    curr_obj = MarkMonthMod.objVal\n",
    "    month_allocation[m] = list(MarkMonthModX.x)\n",
    "    reinvested_amount = reinvested_amount + 0.5 * curr_obj\n",
    "    counter +=1\n",
    "\n",
    "df_all = pd.DataFrame(month_allocation)\n",
    "channels = first_roi.index.to_list()\n",
    "\n",
    "df_all = df_all.rename(index=dict(zip(df_all.index, channels)))\n",
    "df_all\n",
    "\n",
    "    \n",
    "    "
   ]
  },
  {
   "cell_type": "markdown",
   "metadata": {},
   "source": [
    "### Checking for Stable Month"
   ]
  },
  {
   "cell_type": "code",
   "execution_count": 92,
   "metadata": {},
   "outputs": [
    {
     "data": {
      "text/html": [
       "<div>\n",
       "<style scoped>\n",
       "    .dataframe tbody tr th:only-of-type {\n",
       "        vertical-align: middle;\n",
       "    }\n",
       "\n",
       "    .dataframe tbody tr th {\n",
       "        vertical-align: top;\n",
       "    }\n",
       "\n",
       "    .dataframe thead th {\n",
       "        text-align: right;\n",
       "    }\n",
       "</style>\n",
       "<table border=\"1\" class=\"dataframe\">\n",
       "  <thead>\n",
       "    <tr style=\"text-align: right;\">\n",
       "      <th></th>\n",
       "      <th>January</th>\n",
       "      <th>February</th>\n",
       "      <th>March</th>\n",
       "      <th>April</th>\n",
       "      <th>May</th>\n",
       "      <th>June</th>\n",
       "      <th>July</th>\n",
       "      <th>August</th>\n",
       "      <th>September</th>\n",
       "      <th>October</th>\n",
       "      <th>November</th>\n",
       "      <th>December</th>\n",
       "    </tr>\n",
       "  </thead>\n",
       "  <tbody>\n",
       "    <tr>\n",
       "      <th>Print</th>\n",
       "      <td>0</td>\n",
       "      <td>-1.709190</td>\n",
       "      <td>1.709190</td>\n",
       "      <td>-1.709190</td>\n",
       "      <td>3.513290</td>\n",
       "      <td>-2.317390</td>\n",
       "      <td>2.245267</td>\n",
       "      <td>0.826855</td>\n",
       "      <td>-2.536045</td>\n",
       "      <td>4.245235</td>\n",
       "      <td>-2.954425</td>\n",
       "      <td>4.663615</td>\n",
       "    </tr>\n",
       "    <tr>\n",
       "      <th>TV</th>\n",
       "      <td>0</td>\n",
       "      <td>-3.000000</td>\n",
       "      <td>6.000000</td>\n",
       "      <td>-9.000000</td>\n",
       "      <td>12.000000</td>\n",
       "      <td>-15.000000</td>\n",
       "      <td>18.000000</td>\n",
       "      <td>-21.000000</td>\n",
       "      <td>24.000000</td>\n",
       "      <td>-27.000000</td>\n",
       "      <td>30.000000</td>\n",
       "      <td>-30.000000</td>\n",
       "    </tr>\n",
       "    <tr>\n",
       "      <th>SEO</th>\n",
       "      <td>0</td>\n",
       "      <td>0.000000</td>\n",
       "      <td>0.000000</td>\n",
       "      <td>0.000000</td>\n",
       "      <td>0.000000</td>\n",
       "      <td>0.000000</td>\n",
       "      <td>0.000000</td>\n",
       "      <td>0.000000</td>\n",
       "      <td>0.000000</td>\n",
       "      <td>0.000000</td>\n",
       "      <td>0.000000</td>\n",
       "      <td>0.000000</td>\n",
       "    </tr>\n",
       "    <tr>\n",
       "      <th>AdWords</th>\n",
       "      <td>0</td>\n",
       "      <td>2.801176</td>\n",
       "      <td>-1.768726</td>\n",
       "      <td>3.736275</td>\n",
       "      <td>-5.703824</td>\n",
       "      <td>7.671374</td>\n",
       "      <td>-6.638923</td>\n",
       "      <td>7.433766</td>\n",
       "      <td>-5.228610</td>\n",
       "      <td>6.023453</td>\n",
       "      <td>-4.761876</td>\n",
       "      <td>3.928249</td>\n",
       "    </tr>\n",
       "    <tr>\n",
       "      <th>Facebook</th>\n",
       "      <td>0</td>\n",
       "      <td>-1.876223</td>\n",
       "      <td>1.876223</td>\n",
       "      <td>-1.876223</td>\n",
       "      <td>1.876223</td>\n",
       "      <td>-1.876223</td>\n",
       "      <td>3.000000</td>\n",
       "      <td>-4.123777</td>\n",
       "      <td>5.247555</td>\n",
       "      <td>-6.371332</td>\n",
       "      <td>7.495110</td>\n",
       "      <td>-5.618887</td>\n",
       "    </tr>\n",
       "    <tr>\n",
       "      <th>LinkedIn</th>\n",
       "      <td>0</td>\n",
       "      <td>0.458254</td>\n",
       "      <td>2.541746</td>\n",
       "      <td>-2.541746</td>\n",
       "      <td>2.541746</td>\n",
       "      <td>-2.541746</td>\n",
       "      <td>2.541746</td>\n",
       "      <td>-1.887158</td>\n",
       "      <td>4.232570</td>\n",
       "      <td>-3.577982</td>\n",
       "      <td>4.036236</td>\n",
       "      <td>-4.494489</td>\n",
       "    </tr>\n",
       "    <tr>\n",
       "      <th>Instagram</th>\n",
       "      <td>0</td>\n",
       "      <td>1.389648</td>\n",
       "      <td>0.000000</td>\n",
       "      <td>1.610352</td>\n",
       "      <td>-0.220704</td>\n",
       "      <td>1.831056</td>\n",
       "      <td>-0.441408</td>\n",
       "      <td>-0.948240</td>\n",
       "      <td>2.337888</td>\n",
       "      <td>-0.727536</td>\n",
       "      <td>2.117184</td>\n",
       "      <td>-3.506832</td>\n",
       "    </tr>\n",
       "    <tr>\n",
       "      <th>Snapchat</th>\n",
       "      <td>0</td>\n",
       "      <td>0.000000</td>\n",
       "      <td>0.000000</td>\n",
       "      <td>0.000000</td>\n",
       "      <td>0.000000</td>\n",
       "      <td>0.000000</td>\n",
       "      <td>0.000000</td>\n",
       "      <td>0.000000</td>\n",
       "      <td>0.000000</td>\n",
       "      <td>0.000000</td>\n",
       "      <td>0.000000</td>\n",
       "      <td>0.000000</td>\n",
       "    </tr>\n",
       "    <tr>\n",
       "      <th>Twitter</th>\n",
       "      <td>0</td>\n",
       "      <td>5.382972</td>\n",
       "      <td>-4.173972</td>\n",
       "      <td>4.561828</td>\n",
       "      <td>-1.949685</td>\n",
       "      <td>1.357713</td>\n",
       "      <td>2.234259</td>\n",
       "      <td>-2.826231</td>\n",
       "      <td>6.418203</td>\n",
       "      <td>-10.010174</td>\n",
       "      <td>13.602146</td>\n",
       "      <td>-17.194118</td>\n",
       "    </tr>\n",
       "    <tr>\n",
       "      <th>Email</th>\n",
       "      <td>0</td>\n",
       "      <td>-4.592543</td>\n",
       "      <td>7.592543</td>\n",
       "      <td>-10.592543</td>\n",
       "      <td>16.592543</td>\n",
       "      <td>-19.592543</td>\n",
       "      <td>22.592543</td>\n",
       "      <td>-22.592543</td>\n",
       "      <td>23.955475</td>\n",
       "      <td>-22.362933</td>\n",
       "      <td>23.770390</td>\n",
       "      <td>-22.177847</td>\n",
       "    </tr>\n",
       "  </tbody>\n",
       "</table>\n",
       "</div>"
      ],
      "text/plain": [
       "           January  February     March      April        May       June  \\\n",
       "Print            0 -1.709190  1.709190  -1.709190   3.513290  -2.317390   \n",
       "TV               0 -3.000000  6.000000  -9.000000  12.000000 -15.000000   \n",
       "SEO              0  0.000000  0.000000   0.000000   0.000000   0.000000   \n",
       "AdWords          0  2.801176 -1.768726   3.736275  -5.703824   7.671374   \n",
       "Facebook         0 -1.876223  1.876223  -1.876223   1.876223  -1.876223   \n",
       "LinkedIn         0  0.458254  2.541746  -2.541746   2.541746  -2.541746   \n",
       "Instagram        0  1.389648  0.000000   1.610352  -0.220704   1.831056   \n",
       "Snapchat         0  0.000000  0.000000   0.000000   0.000000   0.000000   \n",
       "Twitter          0  5.382972 -4.173972   4.561828  -1.949685   1.357713   \n",
       "Email            0 -4.592543  7.592543 -10.592543  16.592543 -19.592543   \n",
       "\n",
       "                July     August  September    October   November   December  \n",
       "Print       2.245267   0.826855  -2.536045   4.245235  -2.954425   4.663615  \n",
       "TV         18.000000 -21.000000  24.000000 -27.000000  30.000000 -30.000000  \n",
       "SEO         0.000000   0.000000   0.000000   0.000000   0.000000   0.000000  \n",
       "AdWords    -6.638923   7.433766  -5.228610   6.023453  -4.761876   3.928249  \n",
       "Facebook    3.000000  -4.123777   5.247555  -6.371332   7.495110  -5.618887  \n",
       "LinkedIn    2.541746  -1.887158   4.232570  -3.577982   4.036236  -4.494489  \n",
       "Instagram  -0.441408  -0.948240   2.337888  -0.727536   2.117184  -3.506832  \n",
       "Snapchat    0.000000   0.000000   0.000000   0.000000   0.000000   0.000000  \n",
       "Twitter     2.234259  -2.826231   6.418203 -10.010174  13.602146 -17.194118  \n",
       "Email      22.592543 -22.592543  23.955475 -22.362933  23.770390 -22.177847  "
      ]
     },
     "execution_count": 92,
     "metadata": {},
     "output_type": "execute_result"
    }
   ],
   "source": [
    "subs = df_all.columns[1:]\n",
    "\n",
    "# Iterate through the columns and perform subtraction\n",
    "for col in subs:\n",
    "    df_all[col] = df_all[col] - df_all[subs[subs.get_loc(col) - 1]]\n",
    "    \n",
    "df_all['January'] = 0\n",
    "df_all\n"
   ]
  },
  {
   "cell_type": "markdown",
   "metadata": {},
   "source": [
    "Allocations are not stable, we can imporve the model as follows:\n",
    "- a\n",
    "- b\n"
   ]
  },
  {
   "cell_type": "markdown",
   "metadata": {},
   "source": []
  }
 ],
 "metadata": {
  "kernelspec": {
   "display_name": "base",
   "language": "python",
   "name": "python3"
  },
  "language_info": {
   "codemirror_mode": {
    "name": "ipython",
    "version": 3
   },
   "file_extension": ".py",
   "mimetype": "text/x-python",
   "name": "python",
   "nbconvert_exporter": "python",
   "pygments_lexer": "ipython3",
   "version": "3.10.9"
  },
  "orig_nbformat": 4
 },
 "nbformat": 4,
 "nbformat_minor": 2
}
