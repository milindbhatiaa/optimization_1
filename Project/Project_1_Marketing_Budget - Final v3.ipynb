{
 "cells": [
  {
   "cell_type": "markdown",
   "id": "9c79de99",
   "metadata": {},
   "source": [
    "# Marketing Budget Allocation"
   ]
  },
  {
   "cell_type": "markdown",
   "id": "f9cc9d16",
   "metadata": {},
   "source": [
    "<div style=\"background-color: #f0f8ff; padding: 10px;\">\n",
    "   <font color=\"black\" face=\"verdana\" size=\"3\"> \n",
    "\n",
    "**Group Members:**\n",
    "- Sian \n",
    "- Milind Bhatia (mb67324)\n",
    "- Abhijit Anil (aa94375)\n",
    "- Sharan\n",
    "- Vi\n",
    "\n",
    "**Problem Description**\n",
    "\n",
    "Marketing budgets now comprise 11 percent of total company budgets, based on a CMO survey sponsored by the Fuqua School of Business at Duke University, Deloitte LLP, and the American Marketing Association. However, the effectiveness of marketing varies significantly: on the one hand, P&G cut more than $100 million in digital marketing spending because their digital ads were largely ineffective; on the other hand, Netflix plans a 54% boost in ad spending because they got very positive feedback in international markets.\n",
    "One potential reason for such variation is the way of making marketing budget allocations. Namely, how much to invest in each advertisement platform. As stated in the Handbook of Marketing Analytics:\n",
    "\n",
    "*...budget decisions are often based on gut feelings or on the negotiation skills of individual managers. Consequently, politics and individual opinions tend to shape the decision process instead of fact-based discussions. Obviously, these rules and practices bear the risk of results far away from the optimal, profit-maximizing budget.*\n",
    "\n",
    "Indeed, the marketing strategy of Netflix seems to be steered by data.\n",
    "In this project, we use linear programming to build a simple marketing budget allocation strategy.\n",
    "\n",
    "</font>\n",
    "</div>"
   ]
  },
  {
   "cell_type": "code",
   "execution_count": 1,
   "id": "a3157f84",
   "metadata": {},
   "outputs": [],
   "source": [
    "import numpy as np\n",
    "import pandas as pd\n",
    "import gurobipy as gp\n",
    "import matplotlib.pyplot as plt"
   ]
  },
  {
   "cell_type": "markdown",
   "id": "1c1af39d",
   "metadata": {},
   "source": [
    "\n",
    "\n",
    "<div style=\"background-color: #f0f8ff; padding: 10px;\">\n",
    "   <font color=\"black\" face=\"verdana\" size=\"3\"> \n",
    "\n",
    "**1.** Assume that your company is deciding how to spend a marketing budget of $10M. You work in the marketing department as a data scientist and the chief marketing officer has asked you write a report recommending how to spread this budget among several marketing mediums. Your department has employed an outside consulting firm to estimate the return on investment (ROI) of each marketing medium under consideration.\n",
    "\n",
    "</font>\n",
    "</div>"
   ]
  },
  {
   "cell_type": "code",
   "execution_count": 21,
   "id": "710a1ff9",
   "metadata": {},
   "outputs": [],
   "source": [
    "# Read the csv file to get the ROI data from different firms\n",
    "roi_df = pd.read_csv('ROI_data.csv')\n",
    "roi_df = roi_df.set_index('Platform')"
   ]
  },
  {
   "cell_type": "code",
   "execution_count": 22,
   "id": "b32a75d6",
   "metadata": {},
   "outputs": [
    {
     "data": {
      "text/html": [
       "<div>\n",
       "<style scoped>\n",
       "    .dataframe tbody tr th:only-of-type {\n",
       "        vertical-align: middle;\n",
       "    }\n",
       "\n",
       "    .dataframe tbody tr th {\n",
       "        vertical-align: top;\n",
       "    }\n",
       "\n",
       "    .dataframe thead th {\n",
       "        text-align: right;\n",
       "    }\n",
       "</style>\n",
       "<table border=\"1\" class=\"dataframe\">\n",
       "  <thead>\n",
       "    <tr style=\"text-align: right;\">\n",
       "      <th></th>\n",
       "      <th>Print</th>\n",
       "      <th>TV</th>\n",
       "      <th>SEO</th>\n",
       "      <th>AdWords</th>\n",
       "      <th>Facebook</th>\n",
       "      <th>LinkedIn</th>\n",
       "      <th>Instagram</th>\n",
       "      <th>Snapchat</th>\n",
       "      <th>Twitter</th>\n",
       "      <th>Email</th>\n",
       "    </tr>\n",
       "    <tr>\n",
       "      <th>Platform</th>\n",
       "      <th></th>\n",
       "      <th></th>\n",
       "      <th></th>\n",
       "      <th></th>\n",
       "      <th></th>\n",
       "      <th></th>\n",
       "      <th></th>\n",
       "      <th></th>\n",
       "      <th></th>\n",
       "      <th></th>\n",
       "    </tr>\n",
       "  </thead>\n",
       "  <tbody>\n",
       "    <tr>\n",
       "      <th>ROI</th>\n",
       "      <td>0.031</td>\n",
       "      <td>0.049</td>\n",
       "      <td>0.024</td>\n",
       "      <td>0.039</td>\n",
       "      <td>0.016</td>\n",
       "      <td>0.024</td>\n",
       "      <td>0.046</td>\n",
       "      <td>0.026</td>\n",
       "      <td>0.033</td>\n",
       "      <td>0.044</td>\n",
       "    </tr>\n",
       "    <tr>\n",
       "      <th>Second Firms ROI Estimate</th>\n",
       "      <td>0.049</td>\n",
       "      <td>0.023</td>\n",
       "      <td>0.024</td>\n",
       "      <td>0.039</td>\n",
       "      <td>0.044</td>\n",
       "      <td>0.046</td>\n",
       "      <td>0.026</td>\n",
       "      <td>0.019</td>\n",
       "      <td>0.037</td>\n",
       "      <td>0.026</td>\n",
       "    </tr>\n",
       "  </tbody>\n",
       "</table>\n",
       "</div>"
      ],
      "text/plain": [
       "                           Print     TV    SEO  AdWords  Facebook  LinkedIn  \\\n",
       "Platform                                                                      \n",
       "ROI                        0.031  0.049  0.024    0.039     0.016     0.024   \n",
       "Second Firms ROI Estimate  0.049  0.023  0.024    0.039     0.044     0.046   \n",
       "\n",
       "                           Instagram  Snapchat  Twitter  Email  \n",
       "Platform                                                        \n",
       "ROI                            0.046     0.026    0.033  0.044  \n",
       "Second Firms ROI Estimate      0.026     0.019    0.037  0.026  "
      ]
     },
     "execution_count": 22,
     "metadata": {},
     "output_type": "execute_result"
    }
   ],
   "source": [
    "roi_df"
   ]
  },
  {
   "cell_type": "code",
   "execution_count": 23,
   "id": "2fc12d83",
   "metadata": {},
   "outputs": [
    {
     "name": "stdout",
     "output_type": "stream",
     "text": [
      "First set of ROIs\n",
      "[0.031, 0.049, 0.024, 0.039, 0.016, 0.024, 0.046, 0.026, 0.033, 0.044]\n",
      "\n",
      "Second set of ROIs\n",
      "[0.049, 0.023, 0.024, 0.039, 0.044, 0.046, 0.026, 0.019, 0.037, 0.026]\n"
     ]
    }
   ],
   "source": [
    "# we will only need first_est for now\n",
    "channels = list(roi_df.columns)\n",
    "roi_1 = list(roi_df.loc['ROI'].values)\n",
    "roi_2 = list(roi_df.loc['Second Firms ROI Estimate'].values)\n",
    "print('First set of ROIs')\n",
    "print(roi_1)\n",
    "print('\\nSecond set of ROIs')\n",
    "print(roi_2)"
   ]
  },
  {
   "cell_type": "markdown",
   "id": "54eddde7",
   "metadata": {},
   "source": [
    "\n",
    "<div style=\"background-color: #f0f8ff; padding: 10px;\">\n",
    "   <font color=\"black\" face=\"verdana\" size=\"3\"> \n",
    "\n",
    "**2.** On top of these ROIs, your boss has decided to constrain your budget as follows:\n",
    "\n",
    "a. The amount invested in print and TV should be no more than the amount spent on Facebook and Email. Surprisingly, email seems to be a great channel for reaching real people.\n",
    "\n",
    "b. The total amount used in social media (Facebook, LinkedIn, Instagram, Snapchat, and Twitter) should be at least twice of SEO and AdWords.\n",
    "\n",
    "c. For each platform, the amount invested should be no more than $3M.\n",
    "\n",
    "</font>\n",
    "</div>"
   ]
  },
  {
   "cell_type": "markdown",
   "id": "7d4068e3",
   "metadata": {},
   "source": [
    "<div style=\"background-color: #f0f8ff; padding: 10px;\">\n",
    "   <font color=\"black\" face=\"verdana\" size=\"3\"> \n",
    "\n",
    "Assume that $x_0$ to $x_9$ to be the amount invested in different platforms\n",
    "\n",
    "Constraint a:\n",
    "$$(x_0 + x_1) - (x_4 + x_9) <= 0 $$\n",
    "\n",
    "Constraint b:\n",
    "$$(x_4 + x_5 + x_6 + x_7 + x_8) - 2*(x_2 + x_3) >= 0$$\n",
    "\n",
    "Constraint c:\n",
    "$$x_i <= 3$$\n",
    "$$ \\ i \\in [0, 9]$$\n",
    "\n",
    "Sum and Non-zero Constraint:\n",
    "$$\\Sigma x_i <= 10$$\n",
    "$$ \\ i \\in [0, 9]$$\n",
    "\n",
    "\n",
    "</font>\n",
    "</div>"
   ]
  },
  {
   "cell_type": "markdown",
   "id": "0aa9f889",
   "metadata": {},
   "source": [
    "<div style=\"background-color: #f0f8ff; padding: 10px;\">\n",
    "   <font color=\"black\" face=\"verdana\" size=\"3\"> \n",
    "\n",
    "Now we are trying to maximize the ROI of each platform as:\n",
    "$$ z = \\Sigma  (x_i * ROI_i)$$\n",
    "$$ \\ i \\in [0, 9]$$\n",
    "\n",
    "\n",
    "</font>\n",
    "</div>"
   ]
  },
  {
   "cell_type": "markdown",
   "id": "a2966bd7",
   "metadata": {},
   "source": [
    "3. Formulate the marketing budget allocation problem as a linear program. Use gurobi to find the optimal budget allocation."
   ]
  },
  {
   "cell_type": "code",
   "execution_count": 26,
   "id": "6b54e379",
   "metadata": {},
   "outputs": [
    {
     "data": {
      "text/plain": [
       "['Print',\n",
       " 'TV',\n",
       " 'SEO',\n",
       " 'AdWords',\n",
       " 'Facebook',\n",
       " 'LinkedIn',\n",
       " 'Instagram',\n",
       " 'Snapchat',\n",
       " 'Twitter',\n",
       " 'Email']"
      ]
     },
     "execution_count": 26,
     "metadata": {},
     "output_type": "execute_result"
    }
   ],
   "source": [
    "channels"
   ]
  },
  {
   "cell_type": "code",
   "execution_count": 27,
   "id": "b8ed7618",
   "metadata": {},
   "outputs": [],
   "source": [
    "m_budget = 10\n",
    "\n",
    "mod=gp.Model()\n",
    "\n",
    "# Define variables x0 to x9\n",
    "modx = mod.addMVar(len(channels),name=channels)\n",
    "\n",
    "# Set Objective Function\n",
    "mod.setObjective(gp.quicksum(modx[i]*roi_1[i] for i in range(len(channels))),sense=gp.GRB.MAXIMIZE)\n",
    "\n",
    "# Define 3 constraints\n",
    "conlist=[0]*4\n",
    "conlist[0] = mod.addConstr(modx[channels.index('Print')]+modx[channels.index('TV')] <= modx[channels.index('Facebook')]+modx[channels.index('Email')])\n",
    "conlist[1] = mod.addConstr(modx[channels.index('Facebook')]+modx[channels.index('LinkedIn')]+modx[channels.index('Instagram')]+modx[channels.index('Snapchat')]+modx[channels.index('Twitter')] >= 2*(modx[channels.index('SEO')]+modx[channels.index('AdWords')]))\n",
    "conlist[2] = mod.addConstr(gp.quicksum(modx[i] for i in range(len(channels))) <= m_budget)\n",
    "conlist[3] = mod.addConstrs((modx[i] <=3) for i in range(len(channels)))\n",
    "\n",
    "# Optimize\n",
    "mod.Params.OutputFlag = 0\n",
    "mod.optimize()"
   ]
  },
  {
   "cell_type": "code",
   "execution_count": 28,
   "id": "33c796cd",
   "metadata": {},
   "outputs": [
    {
     "name": "stdout",
     "output_type": "stream",
     "text": [
      "Based on the first set of ROIs:\n",
      "\n",
      "Investment in Print should be $0.0M\n",
      "Investment in TV should be $3.0M\n",
      "Investment in SEO should be $0.0M\n",
      "Investment in AdWords should be $1.0M\n",
      "Investment in Facebook should be $0.0M\n",
      "Investment in LinkedIn should be $0.0M\n",
      "Investment in Instagram should be $3.0M\n",
      "Investment in Snapchat should be $0.0M\n",
      "Investment in Twitter should be $0.0M\n",
      "Investment in Email should be $3.0M\n"
     ]
    }
   ],
   "source": [
    "print('Based on the first set of ROIs:\\n')\n",
    "for i in range(len(roi_1)):\n",
    "  print(f'Investment in {channels[i]} should be ${round(modx.x[i],2)}M')"
   ]
  },
  {
   "cell_type": "code",
   "execution_count": 29,
   "id": "d61b3885",
   "metadata": {},
   "outputs": [
    {
     "name": "stdout",
     "output_type": "stream",
     "text": [
      "Total marketing return from the optimized allocation is $0.456M\n"
     ]
    }
   ],
   "source": [
    "print(f'Total marketing return from the optimized allocation is ${mod.ObjVal:.3f}M')"
   ]
  },
  {
   "cell_type": "markdown",
   "id": "d7720de3",
   "metadata": {},
   "source": [
    "<div style=\"background-color: #f0f8ff; padding: 10px;\">\n",
    "   <font color=\"black\" face=\"verdana\" size=\"3\"> \n",
    "\n",
    "4. Your boss is happy to see the promising results presented by the marketing department. However, your boss is also very concerned because your boss recalls being somewhat disappointed after following such recommendations in the past. To be cautious about the decision, your team has decided to get another opinion about the ROI data and rerun the analysis. The second consulting firm returns the estimates of the ROI data in the table below (also in the CSV file mentioned above). You are asked to compare the two optimal allocations from these two ROI estimates.\n",
    "\n",
    "\n",
    "</font>\n",
    "</div>"
   ]
  },
  {
   "cell_type": "code",
   "execution_count": 30,
   "id": "737b39aa",
   "metadata": {},
   "outputs": [],
   "source": [
    "m_budget = 10\n",
    "\n",
    "# Use roi_2 as the vector\n",
    "mod2=gp.Model()\n",
    "\n",
    "# Define variables x0 to x9\n",
    "mod2x = mod2.addMVar(len(channels),name=channels)\n",
    "\n",
    "# Set Objective Function\n",
    "mod2.setObjective(gp.quicksum(mod2x[i]*roi_2[i] for i in range(len(channels))),sense=gp.GRB.MAXIMIZE)\n",
    "\n",
    "# Define 3 constraints\n",
    "conlist2=[0]*4\n",
    "conlist2[0] = mod2.addConstr(mod2x[channels.index('Print')]+mod2x[channels.index('TV')] <= mod2x[channels.index('Facebook')]+mod2x[channels.index('Email')])\n",
    "conlist2[1] = mod2.addConstr(mod2x[channels.index('Facebook')]+mod2x[channels.index('LinkedIn')]+mod2x[channels.index('Instagram')]+mod2x[channels.index('Snapchat')]+mod2x[channels.index('Twitter')] >= 2*(mod2x[channels.index('SEO')]+mod2x[channels.index('AdWords')]))\n",
    "conlist2[2] = mod2.addConstr(gp.quicksum(mod2x[i] for i in range(len(channels))) <= m_budget)\n",
    "conlist2[3] = mod2.addConstrs((mod2x[i] <=3) for i in range(len(channels)))\n",
    "\n",
    "# Optimize\n",
    "mod2.Params.OutputFlag = 0\n",
    "mod2.optimize()"
   ]
  },
  {
   "cell_type": "code",
   "execution_count": 31,
   "id": "663ce895",
   "metadata": {},
   "outputs": [
    {
     "name": "stdout",
     "output_type": "stream",
     "text": [
      "Based on the ROI opinion from the second firm:\n",
      "\n",
      "Investment in Print should be $3.0M\n",
      "Investment in TV should be $0.0M\n",
      "Investment in SEO should be $0.0M\n",
      "Investment in AdWords should be $1.0M\n",
      "Investment in Facebook should be $3.0M\n",
      "Investment in LinkedIn should be $3.0M\n",
      "Investment in Instagram should be $0.0M\n",
      "Investment in Snapchat should be $0.0M\n",
      "Investment in Twitter should be $0.0M\n",
      "Investment in Email should be $0.0M\n"
     ]
    }
   ],
   "source": [
    "print('Based on the ROI opinion from the second firm:\\n')\n",
    "for i in range(len(roi_2)):\n",
    "  print(f'Investment in {channels[i]} should be ${round(mod2x.x[i],2)}M')"
   ]
  },
  {
   "cell_type": "code",
   "execution_count": 32,
   "id": "2ae56a26",
   "metadata": {},
   "outputs": [
    {
     "name": "stdout",
     "output_type": "stream",
     "text": [
      "Total marketing return from the second optimized allocation is $0.456M\n"
     ]
    }
   ],
   "source": [
    "print(f'Total marketing return from the second optimized allocation is ${mod2.ObjVal:.3f}M')"
   ]
  },
  {
   "cell_type": "markdown",
   "id": "3b7a9a81",
   "metadata": {},
   "source": [
    "<div style=\"background-color: #f0f8ff; padding: 10px;\">\n",
    "   <font color=\"black\" face=\"verdana\" size=\"3\"> \n",
    "\n",
    "5. Are the allocations the same? **Allocations are not the same.** \n",
    "  \n",
    "   Assuming the first ROI data is correct, if you were to use the second allocation (the allocation that assumed the second ROI data was correct) how much lower would the objective be relative to the optimal objective (the one that uses the first ROI data and the first allocation)? \\\n",
    "   **Objective would decrease by 204,000.** \n",
    "\n",
    "\n",
    "\n",
    "</font>\n",
    "</div>"
   ]
  },
  {
   "cell_type": "code",
   "execution_count": 33,
   "id": "6e8b83e1",
   "metadata": {},
   "outputs": [
    {
     "name": "stdout",
     "output_type": "stream",
     "text": [
      "Objective value decreases by: $ 204000.0\n"
     ]
    }
   ],
   "source": [
    "# Assuming the  first ROI data is correct, if we use the second allocation numbers\n",
    "obj_1_allo_2 = 0\n",
    "for i in range(len(channels)):\n",
    "    obj_1_allo_2 = obj_1_allo_2 + ( mod2x.x[i] * roi_1[i] )\n",
    "\n",
    "diff = mod.Objval -  obj_1_allo_2\n",
    "print('Objective value decreases by: $',round(diff*1000000,2))"
   ]
  },
  {
   "cell_type": "markdown",
   "id": "1c6afa03",
   "metadata": {},
   "source": [
    "<div style=\"background-color: #f0f8ff; padding: 10px;\">\n",
    "   <font color=\"black\" face=\"verdana\" size=\"3\"> \n",
    "\n",
    "   Assuming the second ROI data is correct, if you used the first allocation how much lower would the objective be relative to the optimal objective? Do you think the third constraint above, based on your boss’ experience, is useful? \\\n",
    "   **Objective is lower by 192,000.**\n",
    "\n",
    "   </font>\n",
    "</div>"
   ]
  },
  {
   "cell_type": "code",
   "execution_count": 34,
   "id": "26df324a",
   "metadata": {},
   "outputs": [
    {
     "name": "stdout",
     "output_type": "stream",
     "text": [
      "Objective value decreases by: $ 192000.0\n"
     ]
    }
   ],
   "source": [
    "# Assuming the  second ROI data is correct, if we use the first allocation numbers\n",
    "obj_2_allo_1 = 0\n",
    "for i in range(len(channels)):\n",
    "    obj_2_allo_1 = obj_2_allo_1 + ( modx.x[i] * roi_2[i] )\n",
    "\n",
    "diff_2 = mod2.Objval -  obj_2_allo_1\n",
    "print('Objective value decreases by: $', round(diff_2*1000000,2))"
   ]
  },
  {
   "cell_type": "markdown",
   "id": "dac7ab87",
   "metadata": {},
   "source": [
    "<div style=\"background-color: #f0f8ff; padding: 10px;\">\n",
    "   <font color=\"black\" face=\"verdana\" size=\"3\"> \n",
    "   \n",
    "   Do you think the third constraint above, based on your boss’ experience, is useful?\n",
    "\n",
    "   </font>\n",
    "</div>"
   ]
  },
  {
   "cell_type": "code",
   "execution_count": 35,
   "id": "39d23d3f",
   "metadata": {},
   "outputs": [
    {
     "name": "stdout",
     "output_type": "stream",
     "text": [
      "For First ROI Model:\n",
      "0.0 is  0, hence it is non binding\n",
      "0.0 is  0, hence it is non binding\n",
      "0.0 is  0, hence it is non binding\n",
      "0.0 is  0, hence it is non binding\n",
      "0.0 is  0, hence it is non binding\n",
      "0.0 is  0, hence it is non binding\n",
      "0.006999999999999999 is not 0, hence it is binding\n",
      "0.0 is  0, hence it is non binding\n",
      "0.0 is  0, hence it is non binding\n",
      "0.015 is not 0, hence it is binding\n"
     ]
    }
   ],
   "source": [
    "#to check if third constraint based on the boss' experience is useful, we will calculate the shadow price\n",
    "shadow_prices1 = []\n",
    "shadow_prices1 = [conlist[3][i].Pi for i in range(len(channels))]\n",
    "print(\"For First ROI Model:\")\n",
    "for i in range(len(channels)):\n",
    "    if shadow_prices1[i] != 0:\n",
    "        print(shadow_prices1[i], 'is not 0, hence it is binding')\n",
    "    else:\n",
    "        print(shadow_prices1[i], 'is  0, hence it is non binding')\n"
   ]
  },
  {
   "cell_type": "code",
   "execution_count": 36,
   "id": "72bce270",
   "metadata": {},
   "outputs": [
    {
     "name": "stdout",
     "output_type": "stream",
     "text": [
      "For Second ROI Model:\n",
      "0.0 is  0, hence it is non binding\n",
      "0.0 is  0, hence it is non binding\n",
      "0.0 is  0, hence it is non binding\n",
      "0.0 is  0, hence it is non binding\n",
      "0.015 is not 0, hence it is binding\n",
      "0.006999999999999999 is not 0, hence it is binding\n",
      "0.0 is  0, hence it is non binding\n",
      "0.0 is  0, hence it is non binding\n",
      "0.0 is  0, hence it is non binding\n",
      "0.0 is  0, hence it is non binding\n"
     ]
    }
   ],
   "source": [
    "#to check if third constraint based on the boss' experience is useful, we will calculate the shadow price\n",
    "shadow_prices2 = []\n",
    "shadow_prices2 = [conlist2[3][i].Pi for i in range(len(channels))]\n",
    "print(\"For Second ROI Model:\")\n",
    "for i in range(len(channels)):\n",
    "    if shadow_prices2[i] != 0:\n",
    "        print(shadow_prices2[i], 'is not 0, hence it is binding')\n",
    "    else:\n",
    "        print(shadow_prices2[i], 'is  0, hence it is non binding')"
   ]
  },
  {
   "cell_type": "markdown",
   "id": "1d451868",
   "metadata": {},
   "source": [
    "<div style=\"background-color: #f0f8ff; padding: 10px;\">\n",
    "   <font color=\"black\" face=\"verdana\" size=\"3\"> \n",
    "\n",
    "   By calculating the shadow prices for each platform, we can see that in both cases we have 2 binding constraints. This implies that if we change the these contraints, it will impact the objective function. Hence, we can say that this means that the boss' experience has come in handy such that we should take into consideration the constraint he has imposed.\n",
    "\n",
    "   To check this further, we shall remove the 3rd constraint for both ROIs and see how our allocations change.\n",
    "\n",
    "   </font>\n",
    "</div>"
   ]
  },
  {
   "cell_type": "markdown",
   "id": "b0be997d",
   "metadata": {},
   "source": [
    "<div style=\"background-color: #f0f8ff; padding: 10px;\">\n",
    "   <font color=\"black\" face=\"verdana\" size=\"3\"> \n",
    "\n",
    "We will remove the third constraint and check if this makes an impact on our objective function:\n",
    "\n",
    "\n",
    "</font>\n",
    "</div>"
   ]
  },
  {
   "cell_type": "code",
   "execution_count": 37,
   "id": "45041777",
   "metadata": {},
   "outputs": [],
   "source": [
    "m_budget = 10\n",
    "\n",
    "mod=gp.Model()\n",
    "\n",
    "# Define variables x0 to x9\n",
    "modx = mod.addMVar(len(channels),name=channels)\n",
    "\n",
    "# Set Objective Function\n",
    "mod.setObjective(gp.quicksum(modx[i]*roi_1[i] for i in range(len(channels))),sense=gp.GRB.MAXIMIZE)\n",
    "\n",
    "# Define 3 constraints\n",
    "conlist=[0]*4\n",
    "conlist[0] = mod.addConstr(modx[channels.index('Print')]+modx[channels.index('TV')] <= modx[channels.index('Facebook')]+modx[channels.index('Email')])\n",
    "conlist[1] = mod.addConstr(modx[channels.index('Facebook')]+modx[channels.index('LinkedIn')]+modx[channels.index('Instagram')]+modx[channels.index('Snapchat')]+modx[channels.index('Twitter')] >= 2*(modx[channels.index('SEO')]+modx[channels.index('AdWords')]))\n",
    "conlist[2] = mod.addConstr(gp.quicksum(modx[i] for i in range(len(channels))) <= m_budget)\n",
    "\n",
    "# Optimize\n",
    "mod.Params.OutputFlag = 0\n",
    "mod.optimize()"
   ]
  },
  {
   "cell_type": "code",
   "execution_count": 38,
   "id": "d4d30e4a",
   "metadata": {},
   "outputs": [
    {
     "name": "stdout",
     "output_type": "stream",
     "text": [
      "Based on the first set of ROIs:\n",
      "\n",
      "Investment in Print should be $0.0M\n",
      "Investment in TV should be $5.0M\n",
      "Investment in SEO should be $0.0M\n",
      "Investment in AdWords should be $0.0M\n",
      "Investment in Facebook should be $0.0M\n",
      "Investment in LinkedIn should be $0.0M\n",
      "Investment in Instagram should be $0.0M\n",
      "Investment in Snapchat should be $0.0M\n",
      "Investment in Twitter should be $0.0M\n",
      "Investment in Email should be $5.0M\n"
     ]
    }
   ],
   "source": [
    "print('Based on the first set of ROIs:\\n')\n",
    "for i in range(len(channels)):\n",
    "  print(f'Investment in {channels[i]} should be ${round(modx.x[i],2)}M')"
   ]
  },
  {
   "cell_type": "code",
   "execution_count": 39,
   "id": "d27bb3a5",
   "metadata": {},
   "outputs": [
    {
     "name": "stdout",
     "output_type": "stream",
     "text": [
      "Objective value: $ 0.465\n"
     ]
    }
   ],
   "source": [
    "print('Objective value: $', round(mod.Objval,4))"
   ]
  },
  {
   "cell_type": "code",
   "execution_count": 40,
   "id": "e8059363",
   "metadata": {},
   "outputs": [],
   "source": [
    "m_budget = 10\n",
    "\n",
    "# Use roi_2 as the vector\n",
    "mod2=gp.Model()\n",
    "\n",
    "# Define variables x0 to x9\n",
    "mod2x = mod2.addMVar(len(channels),name=channels)\n",
    "\n",
    "# Set Objective Function\n",
    "mod2.setObjective(gp.quicksum(mod2x[i]*roi_2[i] for i in range(len(channels))),sense=gp.GRB.MAXIMIZE)\n",
    "\n",
    "# Define 3 constraints\n",
    "conlist2=[0]*4\n",
    "conlist2[0] = mod2.addConstr(mod2x[channels.index('Print')]+mod2x[channels.index('TV')] <= mod2x[channels.index('Facebook')]+mod2x[channels.index('Email')])\n",
    "conlist2[1] = mod2.addConstr(mod2x[channels.index('Facebook')]+mod2x[channels.index('LinkedIn')]+mod2x[channels.index('Instagram')]+mod2x[channels.index('Snapchat')]+mod2x[channels.index('Twitter')] >= 2*(mod2x[channels.index('SEO')]+mod2x[channels.index('AdWords')]))\n",
    "conlist2[2] = mod2.addConstr(gp.quicksum(mod2x[i] for i in range(len(channels))) <= m_budget)\n",
    "\n",
    "# Optimize\n",
    "mod2.Params.OutputFlag = 0\n",
    "mod2.optimize()"
   ]
  },
  {
   "cell_type": "code",
   "execution_count": 41,
   "id": "6549f82e",
   "metadata": {},
   "outputs": [
    {
     "name": "stdout",
     "output_type": "stream",
     "text": [
      "Based on the ROI opinion from the second firm:\n",
      "\n",
      "Investment in Print should be $5.0M\n",
      "Investment in TV should be $0.0M\n",
      "Investment in SEO should be $0.0M\n",
      "Investment in AdWords should be $0.0M\n",
      "Investment in Facebook should be $5.0M\n",
      "Investment in LinkedIn should be $0.0M\n",
      "Investment in Instagram should be $0.0M\n",
      "Investment in Snapchat should be $0.0M\n",
      "Investment in Twitter should be $0.0M\n",
      "Investment in Email should be $0.0M\n"
     ]
    }
   ],
   "source": [
    "print('Based on the ROI opinion from the second firm:\\n')\n",
    "for i in range(len(channels)):\n",
    "  print(f'Investment in {channels[i]} should be ${round(mod2x.x[i],2)}M')"
   ]
  },
  {
   "cell_type": "code",
   "execution_count": 42,
   "id": "852f84ba",
   "metadata": {},
   "outputs": [
    {
     "name": "stdout",
     "output_type": "stream",
     "text": [
      "Objective value: $ 0.465\n"
     ]
    }
   ],
   "source": [
    "print('Objective value: $', round(mod2.Objval,4))"
   ]
  },
  {
   "cell_type": "markdown",
   "id": "582c915e",
   "metadata": {},
   "source": [
    "\n",
    "<div style=\"background-color: #f0f8ff; padding: 10px;\">\n",
    "   <font color=\"black\" face=\"verdana\" size=\"3\"> \n",
    "\n",
    "**Both models' allocations and objective value change as we remove the third constraint, therefore we can confirm that the boss' experience is useful.**\n",
    "\n",
    "</font>\n",
    "</div>"
   ]
  },
  {
   "cell_type": "markdown",
   "id": "50123740",
   "metadata": {},
   "source": [
    "\n",
    "\n",
    "\n",
    "<div style=\"background-color: #f0f8ff; padding: 10px;\">\n",
    "   <font color=\"black\" face=\"verdana\" size=\"3\"> \n",
    "\n",
    "*Caution: Need to redo the first model and then run the results below. (It's because we removed thr 3rd constraint before for evaluation)*\n",
    "\n",
    "</font>\n",
    "</div>"
   ]
  },
  {
   "cell_type": "code",
   "execution_count": 43,
   "id": "45cc040a",
   "metadata": {},
   "outputs": [],
   "source": [
    "# Redo the first set of model\n",
    "m_budget = 10\n",
    "\n",
    "mod=gp.Model()\n",
    "\n",
    "# Define variables x0 to x9\n",
    "modx = mod.addMVar(len(channels),name=channels)\n",
    "\n",
    "# Set Objective Function\n",
    "mod.setObjective(gp.quicksum(modx[i]*roi_1[i] for i in range(len(channels))),sense=gp.GRB.MAXIMIZE)\n",
    "\n",
    "# Define 3 constraints\n",
    "conlist=[0]*4\n",
    "conlist[0] = mod.addConstr(modx[channels.index('Print')]+modx[channels.index('TV')] <= modx[channels.index('Facebook')]+modx[channels.index('Email')])\n",
    "conlist[1] = mod.addConstr(modx[channels.index('Facebook')]+modx[channels.index('LinkedIn')]+modx[channels.index('Instagram')]+modx[channels.index('Snapchat')]+modx[channels.index('Twitter')] >= 2*(modx[channels.index('SEO')]+modx[channels.index('AdWords')]))\n",
    "conlist[2] = mod.addConstr(gp.quicksum(modx[i] for i in range(len(channels))) <= m_budget)\n",
    "conlist[3] = mod.addConstrs((modx[i] <=3) for i in range(len(channels)))\n",
    "\n",
    "# Optimize\n",
    "mod.Params.OutputFlag = 0\n",
    "mod.optimize()\n",
    "\n",
    "# redo mod2\n",
    "m_budget = 10\n",
    "\n",
    "# Use roi_2 as the vector\n",
    "mod2=gp.Model()\n",
    "\n",
    "# Define variables x0 to x9\n",
    "mod2x = mod2.addMVar(len(channels),name=channels)\n",
    "\n",
    "# Set Objective Function\n",
    "mod2.setObjective(gp.quicksum(mod2x[i]*roi_2[i] for i in range(len(channels))),sense=gp.GRB.MAXIMIZE)\n",
    "\n",
    "# Define 3 constraints\n",
    "conlist2=[0]*4\n",
    "conlist2[0] = mod2.addConstr(mod2x[channels.index('Print')]+mod2x[channels.index('TV')] <= mod2x[channels.index('Facebook')]+mod2x[channels.index('Email')])\n",
    "conlist2[1] = mod2.addConstr(mod2x[channels.index('Facebook')]+mod2x[channels.index('LinkedIn')]+mod2x[channels.index('Instagram')]+mod2x[channels.index('Snapchat')]+mod2x[channels.index('Twitter')] >= 2*(mod2x[channels.index('SEO')]+mod2x[channels.index('AdWords')]))\n",
    "conlist2[2] = mod2.addConstr(gp.quicksum(mod2x[i] for i in range(len(channels))) <= m_budget)\n",
    "conlist2[3] = mod2.addConstrs((mod2x[i] <=3) for i in range(len(channels)))\n",
    "\n",
    "# Optimize\n",
    "mod2.Params.OutputFlag = 0\n",
    "mod2.optimize()"
   ]
  },
  {
   "cell_type": "code",
   "execution_count": 44,
   "id": "8fab5cf1",
   "metadata": {},
   "outputs": [
    {
     "data": {
      "text/html": [
       "<div>\n",
       "<style scoped>\n",
       "    .dataframe tbody tr th:only-of-type {\n",
       "        vertical-align: middle;\n",
       "    }\n",
       "\n",
       "    .dataframe tbody tr th {\n",
       "        vertical-align: top;\n",
       "    }\n",
       "\n",
       "    .dataframe thead th {\n",
       "        text-align: right;\n",
       "    }\n",
       "</style>\n",
       "<table border=\"1\" class=\"dataframe\">\n",
       "  <thead>\n",
       "    <tr style=\"text-align: right;\">\n",
       "      <th></th>\n",
       "      <th>Platform</th>\n",
       "      <th>ROI_First</th>\n",
       "      <th>ROI_Second</th>\n",
       "    </tr>\n",
       "  </thead>\n",
       "  <tbody>\n",
       "    <tr>\n",
       "      <th>0</th>\n",
       "      <td>Print</td>\n",
       "      <td>0.0</td>\n",
       "      <td>3.0</td>\n",
       "    </tr>\n",
       "    <tr>\n",
       "      <th>1</th>\n",
       "      <td>TV</td>\n",
       "      <td>3.0</td>\n",
       "      <td>0.0</td>\n",
       "    </tr>\n",
       "    <tr>\n",
       "      <th>2</th>\n",
       "      <td>SEO</td>\n",
       "      <td>0.0</td>\n",
       "      <td>0.0</td>\n",
       "    </tr>\n",
       "    <tr>\n",
       "      <th>3</th>\n",
       "      <td>AdWords</td>\n",
       "      <td>1.0</td>\n",
       "      <td>1.0</td>\n",
       "    </tr>\n",
       "    <tr>\n",
       "      <th>4</th>\n",
       "      <td>Facebook</td>\n",
       "      <td>0.0</td>\n",
       "      <td>3.0</td>\n",
       "    </tr>\n",
       "    <tr>\n",
       "      <th>5</th>\n",
       "      <td>LinkedIn</td>\n",
       "      <td>0.0</td>\n",
       "      <td>3.0</td>\n",
       "    </tr>\n",
       "    <tr>\n",
       "      <th>6</th>\n",
       "      <td>Instagram</td>\n",
       "      <td>3.0</td>\n",
       "      <td>0.0</td>\n",
       "    </tr>\n",
       "    <tr>\n",
       "      <th>7</th>\n",
       "      <td>Snapchat</td>\n",
       "      <td>0.0</td>\n",
       "      <td>0.0</td>\n",
       "    </tr>\n",
       "    <tr>\n",
       "      <th>8</th>\n",
       "      <td>Twitter</td>\n",
       "      <td>0.0</td>\n",
       "      <td>0.0</td>\n",
       "    </tr>\n",
       "    <tr>\n",
       "      <th>9</th>\n",
       "      <td>Email</td>\n",
       "      <td>3.0</td>\n",
       "      <td>0.0</td>\n",
       "    </tr>\n",
       "  </tbody>\n",
       "</table>\n",
       "</div>"
      ],
      "text/plain": [
       "    Platform  ROI_First  ROI_Second\n",
       "0      Print        0.0         3.0\n",
       "1         TV        3.0         0.0\n",
       "2        SEO        0.0         0.0\n",
       "3    AdWords        1.0         1.0\n",
       "4   Facebook        0.0         3.0\n",
       "5   LinkedIn        0.0         3.0\n",
       "6  Instagram        3.0         0.0\n",
       "7   Snapchat        0.0         0.0\n",
       "8    Twitter        0.0         0.0\n",
       "9      Email        3.0         0.0"
      ]
     },
     "execution_count": 44,
     "metadata": {},
     "output_type": "execute_result"
    }
   ],
   "source": [
    "# Create a dictionary from the arrays\n",
    "data = {'Platform': channels,'ROI_First': modx.x, 'ROI_Second': mod2x.x}\n",
    "\n",
    "# Create a DataFrame from the dictionary\n",
    "df = pd.DataFrame(data)\n",
    "df"
   ]
  },
  {
   "cell_type": "code",
   "execution_count": 45,
   "id": "7be5f785",
   "metadata": {},
   "outputs": [
    {
     "data": {
      "image/png": "[encoded data removed]",
      "text/plain": [
       "<Figure size 640x480 with 1 Axes>"
      ]
     },
     "metadata": {},
     "output_type": "display_data"
    }
   ],
   "source": [
    "# Plot the dataframe to make comparison\n",
    "df.plot(x='Platform', y=['ROI_First', 'ROI_Second'], kind='bar')\n",
    "plt.xlabel('Platform')\n",
    "plt.ylabel('Allocation')\n",
    "plt.title('Allocation fraction using different firms estimate')\n",
    "plt.show()"
   ]
  },
  {
   "cell_type": "markdown",
   "id": "5f171048",
   "metadata": {},
   "source": [
    "<div style=\"background-color: #f0f8ff; padding: 10px;\">\n",
    "   <font color=\"black\" face=\"verdana\" size=\"3\"> \n",
    "\n",
    "6. To explore this further perform some analysis of how your optimal allocation would change based on changes in the ROI data. Use the first ROI data as your starting point. By how much could each advertising medium’s ROI increase or decrease and still result in the same optimal allocation you found in step (3)?\n",
    "\n",
    "</font>\n",
    "</div>"
   ]
  },
  {
   "cell_type": "markdown",
   "id": "9df13cd9",
   "metadata": {},
   "source": [
    "<div style=\"background-color: #f0f8ff; padding: 10px;\">\n",
    "   <font color=\"black\" face=\"verdana\" size=\"3\"> \n",
    "\n",
    "**How to perform sensitivity analysis:**\n",
    "\n",
    "- ROI will be changed for each platform one by one without changing it for the other platforms\n",
    "- Optimal Allocation and Objective value will be recorded to identify whether it stays the same\n",
    "\n",
    "</font>\n",
    "</div>"
   ]
  },
  {
   "cell_type": "markdown",
   "id": "561ee951",
   "metadata": {},
   "source": [
    "<div style=\"background-color: #f0f8ff; padding: 10px;\">\n",
    "   <font color=\"black\" face=\"verdana\" size=\"3\"> \n",
    "For the first ROI model:\n",
    "\n",
    "</font>\n",
    "</div>"
   ]
  },
  {
   "cell_type": "code",
   "execution_count": 46,
   "id": "85f8e2e3",
   "metadata": {},
   "outputs": [],
   "source": [
    "# Redo the first set of model\n",
    "m_budget = 10\n",
    "\n",
    "mod=gp.Model()\n",
    "\n",
    "# Define variables x0 to x9\n",
    "modx = mod.addMVar(len(channels),name=channels)\n",
    "\n",
    "# Set Objective Function\n",
    "mod.setObjective(gp.quicksum(modx[i]*roi_1[i] for i in range(len(channels))),sense=gp.GRB.MAXIMIZE)\n",
    "\n",
    "# Define 3 constraints\n",
    "conlist=[0]*4\n",
    "conlist[0] = mod.addConstr(modx[channels.index('Print')]+modx[channels.index('TV')] <= modx[channels.index('Facebook')]+modx[channels.index('Email')])\n",
    "conlist[1] = mod.addConstr(modx[channels.index('Facebook')]+modx[channels.index('LinkedIn')]+modx[channels.index('Instagram')]+modx[channels.index('Snapchat')]+modx[channels.index('Twitter')] >= 2*(modx[channels.index('SEO')]+modx[channels.index('AdWords')]))\n",
    "conlist[2] = mod.addConstr(gp.quicksum(modx[i] for i in range(len(channels))) <= m_budget)\n",
    "conlist[3] = mod.addConstrs((modx[i] <=3) for i in range(len(channels)))\n",
    "\n",
    "# Optimize\n",
    "mod.Params.OutputFlag = 0\n",
    "mod.optimize()"
   ]
  },
  {
   "cell_type": "code",
   "execution_count": 47,
   "id": "1c0c5725",
   "metadata": {},
   "outputs": [
    {
     "data": {
      "text/plain": [
       "array([ -inf, 0.039,  -inf, 0.033,  -inf,  -inf, 0.039,  -inf,  -inf,\n",
       "       0.029])"
      ]
     },
     "execution_count": 47,
     "metadata": {},
     "output_type": "execute_result"
    }
   ],
   "source": [
    "modx.SAObjLow"
   ]
  },
  {
   "cell_type": "code",
   "execution_count": 48,
   "id": "3cd0572b",
   "metadata": {},
   "outputs": [
    {
     "data": {
      "text/plain": [
       "array([0.049, 0.062, 0.039, 0.046, 0.029, 0.039,   inf, 0.039, 0.039,\n",
       "         inf])"
      ]
     },
     "execution_count": 48,
     "metadata": {},
     "output_type": "execute_result"
    }
   ],
   "source": [
    "modx.SAObjUp"
   ]
  },
  {
   "cell_type": "code",
   "execution_count": 49,
   "id": "b25bcb14",
   "metadata": {},
   "outputs": [
    {
     "data": {
      "image/png": "[encoded data removed]",
      "text/plain": [
       "<Figure size 1000x500 with 1 Axes>"
      ]
     },
     "metadata": {},
     "output_type": "display_data"
    }
   ],
   "source": [
    "# Plot the lower bound and upper bound\n",
    "l1 = [0 if (x==-np.inf) else x for x in modx.SAObjLow]\n",
    "l2 = [0.1 if (x==np.inf) else x for x in modx.SAObjUp]\n",
    "\n",
    "plt.figure(figsize=(10,5))\n",
    "plt.plot(channels, l1,label='Lower Bound')\n",
    "plt.plot(channels, l2,label='Upper Bound')\n",
    "plt.plot(channels, roi_1,label='Original ROI')\n",
    "plt.legend()\n",
    "plt.show()"
   ]
  },
  {
   "cell_type": "markdown",
   "id": "2f41b0b3",
   "metadata": {},
   "source": [
    "<div style=\"background-color: #f0f8ff; padding: 10px;\">\n",
    "   <font color=\"black\" face=\"verdana\" size=\"3\"> \n",
    "For the second ROI model:\n",
    "\n",
    "</font>\n",
    "</div>"
   ]
  },
  {
   "cell_type": "code",
   "execution_count": 50,
   "id": "c71f330d",
   "metadata": {},
   "outputs": [],
   "source": [
    "# redo mod2\n",
    "m_budget = 10\n",
    "\n",
    "# Use roi_2 as the vector\n",
    "mod2=gp.Model()\n",
    "\n",
    "# Define variables x0 to x9\n",
    "mod2x = mod2.addMVar(len(channels),name=channels)\n",
    "\n",
    "# Set Objective Function\n",
    "mod2.setObjective(gp.quicksum(mod2x[i]*roi_2[i] for i in range(len(channels))),sense=gp.GRB.MAXIMIZE)\n",
    "\n",
    "# Define 3 constraints\n",
    "conlist2=[0]*4\n",
    "conlist2[0] = mod2.addConstr(mod2x[channels.index('Print')]+mod2x[channels.index('TV')] <= mod2x[channels.index('Facebook')]+mod2x[channels.index('Email')])\n",
    "conlist2[1] = mod2.addConstr(mod2x[channels.index('Facebook')]+mod2x[channels.index('LinkedIn')]+mod2x[channels.index('Instagram')]+mod2x[channels.index('Snapchat')]+mod2x[channels.index('Twitter')] >= 2*(mod2x[channels.index('SEO')]+mod2x[channels.index('AdWords')]))\n",
    "conlist2[2] = mod2.addConstr(gp.quicksum(mod2x[i] for i in range(len(channels))) <= m_budget)\n",
    "conlist2[3] = mod2.addConstrs((mod2x[i] <=3) for i in range(len(channels)))\n",
    "\n",
    "# Optimize\n",
    "mod2.Params.OutputFlag = 0\n",
    "mod2.optimize()"
   ]
  },
  {
   "cell_type": "code",
   "execution_count": 51,
   "id": "eaf90d29",
   "metadata": {},
   "outputs": [
    {
     "data": {
      "text/plain": [
       "array([0.039 ,   -inf,   -inf, 0.0375, 0.029 , 0.039 ,   -inf,   -inf,\n",
       "         -inf,   -inf])"
      ]
     },
     "execution_count": 51,
     "metadata": {},
     "output_type": "execute_result"
    }
   ],
   "source": [
    "mod2x.SAObjLow"
   ]
  },
  {
   "cell_type": "code",
   "execution_count": 52,
   "id": "1c8ef61f",
   "metadata": {},
   "outputs": [
    {
     "data": {
      "text/plain": [
       "array([0.052, 0.049, 0.039, 0.046,   inf,   inf, 0.039, 0.039, 0.039,\n",
       "       0.029])"
      ]
     },
     "execution_count": 52,
     "metadata": {},
     "output_type": "execute_result"
    }
   ],
   "source": [
    "mod2x.SAObjUp"
   ]
  },
  {
   "cell_type": "code",
   "execution_count": 53,
   "id": "b97df8f9",
   "metadata": {},
   "outputs": [
    {
     "data": {
      "image/png": "[encoded data removed]",
      "text/plain": [
       "<Figure size 1000x500 with 1 Axes>"
      ]
     },
     "metadata": {},
     "output_type": "display_data"
    }
   ],
   "source": [
    "# Plot the lower bound and upper bound\n",
    "l1 = [0 if (x==-np.inf) else x for x in mod2x.SAObjLow]\n",
    "l2 = [0.1 if (x==np.inf) else x for x in mod2x.SAObjUp]\n",
    "\n",
    "plt.figure(figsize=(10,5))\n",
    "plt.plot(channels, l1,label='Lower Bound')\n",
    "plt.plot(channels, l2,label='Upper Bound')\n",
    "plt.plot(channels, roi_2,label='Original ROI')\n",
    "plt.legend()\n",
    "plt.show()"
   ]
  },
  {
   "cell_type": "markdown",
   "id": "3d992739",
   "metadata": {},
   "source": [
    "<div style=\"background-color: #f0f8ff; padding: 10px;\">\n",
    "   <font color=\"black\" face=\"verdana\" size=\"3\"> \n",
    "\n",
    "7. Your boss has gained permission to reinvest half of the return. For example, if the marketing obtains a 4% return in January, the budget of February will be 10M + 10 × 4% × 50% = $10.2M. The monthly ROI for next year is given in an attached csv file. The three constraints given by your boss are still in place for each month. What is the optimal allocation for each month?\n",
    "\n",
    "</font>\n",
    "</div>"
   ]
  },
  {
   "cell_type": "code",
   "execution_count": 55,
   "id": "1c1c690c",
   "metadata": {},
   "outputs": [
    {
     "data": {
      "text/html": [
       "<div>\n",
       "<style scoped>\n",
       "    .dataframe tbody tr th:only-of-type {\n",
       "        vertical-align: middle;\n",
       "    }\n",
       "\n",
       "    .dataframe tbody tr th {\n",
       "        vertical-align: top;\n",
       "    }\n",
       "\n",
       "    .dataframe thead th {\n",
       "        text-align: right;\n",
       "    }\n",
       "</style>\n",
       "<table border=\"1\" class=\"dataframe\">\n",
       "  <thead>\n",
       "    <tr style=\"text-align: right;\">\n",
       "      <th></th>\n",
       "      <th>Unnamed: 0</th>\n",
       "      <th>Print</th>\n",
       "      <th>TV</th>\n",
       "      <th>SEO</th>\n",
       "      <th>AdWords</th>\n",
       "      <th>Facebook</th>\n",
       "      <th>LinkedIn</th>\n",
       "      <th>Instagram</th>\n",
       "      <th>Snapchat</th>\n",
       "      <th>Twitter</th>\n",
       "      <th>Email</th>\n",
       "    </tr>\n",
       "  </thead>\n",
       "  <tbody>\n",
       "    <tr>\n",
       "      <th>0</th>\n",
       "      <td>January</td>\n",
       "      <td>4.0</td>\n",
       "      <td>3.6</td>\n",
       "      <td>2.4</td>\n",
       "      <td>3.9</td>\n",
       "      <td>3.0</td>\n",
       "      <td>3.5</td>\n",
       "      <td>3.6</td>\n",
       "      <td>2.25</td>\n",
       "      <td>3.5</td>\n",
       "      <td>3.5</td>\n",
       "    </tr>\n",
       "    <tr>\n",
       "      <th>1</th>\n",
       "      <td>February</td>\n",
       "      <td>4.0</td>\n",
       "      <td>3.9</td>\n",
       "      <td>2.7</td>\n",
       "      <td>3.8</td>\n",
       "      <td>4.3</td>\n",
       "      <td>3.2</td>\n",
       "      <td>2.7</td>\n",
       "      <td>1.80</td>\n",
       "      <td>3.7</td>\n",
       "      <td>3.5</td>\n",
       "    </tr>\n",
       "    <tr>\n",
       "      <th>2</th>\n",
       "      <td>March</td>\n",
       "      <td>3.5</td>\n",
       "      <td>2.9</td>\n",
       "      <td>3.1</td>\n",
       "      <td>3.8</td>\n",
       "      <td>2.4</td>\n",
       "      <td>4.1</td>\n",
       "      <td>3.7</td>\n",
       "      <td>2.60</td>\n",
       "      <td>4.2</td>\n",
       "      <td>2.5</td>\n",
       "    </tr>\n",
       "    <tr>\n",
       "      <th>3</th>\n",
       "      <td>April</td>\n",
       "      <td>3.8</td>\n",
       "      <td>3.1</td>\n",
       "      <td>2.4</td>\n",
       "      <td>4.4</td>\n",
       "      <td>2.4</td>\n",
       "      <td>3.8</td>\n",
       "      <td>3.7</td>\n",
       "      <td>2.50</td>\n",
       "      <td>3.6</td>\n",
       "      <td>2.9</td>\n",
       "    </tr>\n",
       "    <tr>\n",
       "      <th>4</th>\n",
       "      <td>May</td>\n",
       "      <td>3.5</td>\n",
       "      <td>3.2</td>\n",
       "      <td>1.9</td>\n",
       "      <td>3.4</td>\n",
       "      <td>2.7</td>\n",
       "      <td>2.7</td>\n",
       "      <td>3.9</td>\n",
       "      <td>2.20</td>\n",
       "      <td>4.5</td>\n",
       "      <td>3.9</td>\n",
       "    </tr>\n",
       "    <tr>\n",
       "      <th>5</th>\n",
       "      <td>June</td>\n",
       "      <td>4.0</td>\n",
       "      <td>3.2</td>\n",
       "      <td>2.7</td>\n",
       "      <td>3.4</td>\n",
       "      <td>3.4</td>\n",
       "      <td>3.0</td>\n",
       "      <td>4.5</td>\n",
       "      <td>2.10</td>\n",
       "      <td>3.8</td>\n",
       "      <td>4.1</td>\n",
       "    </tr>\n",
       "    <tr>\n",
       "      <th>6</th>\n",
       "      <td>July</td>\n",
       "      <td>3.9</td>\n",
       "      <td>3.6</td>\n",
       "      <td>2.0</td>\n",
       "      <td>4.4</td>\n",
       "      <td>3.9</td>\n",
       "      <td>3.7</td>\n",
       "      <td>4.3</td>\n",
       "      <td>1.80</td>\n",
       "      <td>4.0</td>\n",
       "      <td>3.8</td>\n",
       "    </tr>\n",
       "    <tr>\n",
       "      <th>7</th>\n",
       "      <td>August</td>\n",
       "      <td>4.2</td>\n",
       "      <td>3.3</td>\n",
       "      <td>2.8</td>\n",
       "      <td>4.2</td>\n",
       "      <td>2.0</td>\n",
       "      <td>3.7</td>\n",
       "      <td>3.6</td>\n",
       "      <td>1.50</td>\n",
       "      <td>4.4</td>\n",
       "      <td>4.3</td>\n",
       "    </tr>\n",
       "    <tr>\n",
       "      <th>8</th>\n",
       "      <td>September</td>\n",
       "      <td>4.1</td>\n",
       "      <td>2.8</td>\n",
       "      <td>2.5</td>\n",
       "      <td>4.2</td>\n",
       "      <td>2.9</td>\n",
       "      <td>3.7</td>\n",
       "      <td>2.8</td>\n",
       "      <td>2.50</td>\n",
       "      <td>4.0</td>\n",
       "      <td>3.4</td>\n",
       "    </tr>\n",
       "    <tr>\n",
       "      <th>9</th>\n",
       "      <td>October</td>\n",
       "      <td>3.0</td>\n",
       "      <td>3.0</td>\n",
       "      <td>3.1</td>\n",
       "      <td>4.6</td>\n",
       "      <td>3.1</td>\n",
       "      <td>3.3</td>\n",
       "      <td>3.2</td>\n",
       "      <td>2.30</td>\n",
       "      <td>2.5</td>\n",
       "      <td>3.2</td>\n",
       "    </tr>\n",
       "    <tr>\n",
       "      <th>10</th>\n",
       "      <td>November</td>\n",
       "      <td>4.8</td>\n",
       "      <td>3.3</td>\n",
       "      <td>2.7</td>\n",
       "      <td>4.1</td>\n",
       "      <td>2.9</td>\n",
       "      <td>3.6</td>\n",
       "      <td>4.2</td>\n",
       "      <td>3.00</td>\n",
       "      <td>3.1</td>\n",
       "      <td>4.1</td>\n",
       "    </tr>\n",
       "    <tr>\n",
       "      <th>11</th>\n",
       "      <td>December</td>\n",
       "      <td>4.8</td>\n",
       "      <td>4.0</td>\n",
       "      <td>1.9</td>\n",
       "      <td>3.7</td>\n",
       "      <td>4.2</td>\n",
       "      <td>3.6</td>\n",
       "      <td>2.6</td>\n",
       "      <td>2.90</td>\n",
       "      <td>3.6</td>\n",
       "      <td>3.7</td>\n",
       "    </tr>\n",
       "  </tbody>\n",
       "</table>\n",
       "</div>"
      ],
      "text/plain": [
       "   Unnamed: 0  Print   TV  SEO  AdWords  Facebook  LinkedIn  Instagram  \\\n",
       "0     January    4.0  3.6  2.4      3.9       3.0       3.5        3.6   \n",
       "1    February    4.0  3.9  2.7      3.8       4.3       3.2        2.7   \n",
       "2       March    3.5  2.9  3.1      3.8       2.4       4.1        3.7   \n",
       "3       April    3.8  3.1  2.4      4.4       2.4       3.8        3.7   \n",
       "4         May    3.5  3.2  1.9      3.4       2.7       2.7        3.9   \n",
       "5        June    4.0  3.2  2.7      3.4       3.4       3.0        4.5   \n",
       "6        July    3.9  3.6  2.0      4.4       3.9       3.7        4.3   \n",
       "7      August    4.2  3.3  2.8      4.2       2.0       3.7        3.6   \n",
       "8   September    4.1  2.8  2.5      4.2       2.9       3.7        2.8   \n",
       "9     October    3.0  3.0  3.1      4.6       3.1       3.3        3.2   \n",
       "10   November    4.8  3.3  2.7      4.1       2.9       3.6        4.2   \n",
       "11   December    4.8  4.0  1.9      3.7       4.2       3.6        2.6   \n",
       "\n",
       "    Snapchat  Twitter  Email  \n",
       "0       2.25      3.5    3.5  \n",
       "1       1.80      3.7    3.5  \n",
       "2       2.60      4.2    2.5  \n",
       "3       2.50      3.6    2.9  \n",
       "4       2.20      4.5    3.9  \n",
       "5       2.10      3.8    4.1  \n",
       "6       1.80      4.0    3.8  \n",
       "7       1.50      4.4    4.3  \n",
       "8       2.50      4.0    3.4  \n",
       "9       2.30      2.5    3.2  \n",
       "10      3.00      3.1    4.1  \n",
       "11      2.90      3.6    3.7  "
      ]
     },
     "execution_count": 55,
     "metadata": {},
     "output_type": "execute_result"
    }
   ],
   "source": [
    "# Read the csv file and convert the number to percentage value\n",
    "roi_det_df = pd.read_csv('roi_mat.csv')\n",
    "roi_det_df"
   ]
  },
  {
   "cell_type": "code",
   "execution_count": 60,
   "id": "8f67f377",
   "metadata": {},
   "outputs": [
    {
     "name": "stdout",
     "output_type": "stream",
     "text": [
      "0.373\n",
      "0.40629600000000005\n",
      "0.414416976\n",
      "0.414486833568\n",
      "0.43214349666744\n",
      "0.45476652281847335\n",
      "0.4686546416665513\n",
      "0.4879661131005957\n",
      "0.4592199484466449\n",
      "0.4275752085162833\n",
      "0.5173755681180985\n",
      "0.5168341742146887\n"
     ]
    },
    {
     "data": {
      "text/html": [
       "<div>\n",
       "<style scoped>\n",
       "    .dataframe tbody tr th:only-of-type {\n",
       "        vertical-align: middle;\n",
       "    }\n",
       "\n",
       "    .dataframe tbody tr th {\n",
       "        vertical-align: top;\n",
       "    }\n",
       "\n",
       "    .dataframe thead th {\n",
       "        text-align: right;\n",
       "    }\n",
       "</style>\n",
       "<table border=\"1\" class=\"dataframe\">\n",
       "  <thead>\n",
       "    <tr style=\"text-align: right;\">\n",
       "      <th></th>\n",
       "      <th>January</th>\n",
       "      <th>February</th>\n",
       "      <th>March</th>\n",
       "      <th>April</th>\n",
       "      <th>May</th>\n",
       "      <th>June</th>\n",
       "      <th>July</th>\n",
       "      <th>August</th>\n",
       "      <th>September</th>\n",
       "      <th>October</th>\n",
       "      <th>November</th>\n",
       "      <th>December</th>\n",
       "    </tr>\n",
       "  </thead>\n",
       "  <tbody>\n",
       "    <tr>\n",
       "      <th>Print</th>\n",
       "      <td>3.000000</td>\n",
       "      <td>3.0000</td>\n",
       "      <td>0.000000</td>\n",
       "      <td>0.000000</td>\n",
       "      <td>1.8041</td>\n",
       "      <td>3.000000</td>\n",
       "      <td>1.123777</td>\n",
       "      <td>3.000000</td>\n",
       "      <td>1.362933</td>\n",
       "      <td>0.000000</td>\n",
       "      <td>3.000000</td>\n",
       "      <td>3.000000</td>\n",
       "    </tr>\n",
       "    <tr>\n",
       "      <th>TV</th>\n",
       "      <td>0.000000</td>\n",
       "      <td>0.0000</td>\n",
       "      <td>0.000000</td>\n",
       "      <td>0.000000</td>\n",
       "      <td>0.0000</td>\n",
       "      <td>0.000000</td>\n",
       "      <td>0.000000</td>\n",
       "      <td>0.000000</td>\n",
       "      <td>0.000000</td>\n",
       "      <td>0.000000</td>\n",
       "      <td>0.000000</td>\n",
       "      <td>3.000000</td>\n",
       "    </tr>\n",
       "    <tr>\n",
       "      <th>SEO</th>\n",
       "      <td>0.000000</td>\n",
       "      <td>0.0000</td>\n",
       "      <td>0.000000</td>\n",
       "      <td>0.000000</td>\n",
       "      <td>0.0000</td>\n",
       "      <td>0.000000</td>\n",
       "      <td>0.000000</td>\n",
       "      <td>0.000000</td>\n",
       "      <td>0.000000</td>\n",
       "      <td>0.000000</td>\n",
       "      <td>0.000000</td>\n",
       "      <td>0.000000</td>\n",
       "    </tr>\n",
       "    <tr>\n",
       "      <th>AdWords</th>\n",
       "      <td>1.333333</td>\n",
       "      <td>2.3955</td>\n",
       "      <td>3.000000</td>\n",
       "      <td>3.000000</td>\n",
       "      <td>0.0000</td>\n",
       "      <td>0.000000</td>\n",
       "      <td>3.000000</td>\n",
       "      <td>1.827294</td>\n",
       "      <td>3.000000</td>\n",
       "      <td>3.000000</td>\n",
       "      <td>2.056421</td>\n",
       "      <td>0.427951</td>\n",
       "    </tr>\n",
       "    <tr>\n",
       "      <th>Facebook</th>\n",
       "      <td>0.000000</td>\n",
       "      <td>3.0000</td>\n",
       "      <td>0.000000</td>\n",
       "      <td>0.000000</td>\n",
       "      <td>0.0000</td>\n",
       "      <td>0.000000</td>\n",
       "      <td>1.123777</td>\n",
       "      <td>0.000000</td>\n",
       "      <td>0.000000</td>\n",
       "      <td>0.000000</td>\n",
       "      <td>0.000000</td>\n",
       "      <td>3.000000</td>\n",
       "    </tr>\n",
       "    <tr>\n",
       "      <th>LinkedIn</th>\n",
       "      <td>0.000000</td>\n",
       "      <td>0.0000</td>\n",
       "      <td>3.000000</td>\n",
       "      <td>3.000000</td>\n",
       "      <td>0.0000</td>\n",
       "      <td>0.000000</td>\n",
       "      <td>0.000000</td>\n",
       "      <td>0.654588</td>\n",
       "      <td>3.000000</td>\n",
       "      <td>3.000000</td>\n",
       "      <td>1.112842</td>\n",
       "      <td>0.000000</td>\n",
       "    </tr>\n",
       "    <tr>\n",
       "      <th>Instagram</th>\n",
       "      <td>2.666667</td>\n",
       "      <td>0.0000</td>\n",
       "      <td>1.389648</td>\n",
       "      <td>3.000000</td>\n",
       "      <td>3.0000</td>\n",
       "      <td>3.000000</td>\n",
       "      <td>3.000000</td>\n",
       "      <td>0.000000</td>\n",
       "      <td>0.000000</td>\n",
       "      <td>3.000000</td>\n",
       "      <td>3.000000</td>\n",
       "      <td>0.000000</td>\n",
       "    </tr>\n",
       "    <tr>\n",
       "      <th>Snapchat</th>\n",
       "      <td>0.000000</td>\n",
       "      <td>0.0000</td>\n",
       "      <td>0.000000</td>\n",
       "      <td>0.000000</td>\n",
       "      <td>0.0000</td>\n",
       "      <td>0.000000</td>\n",
       "      <td>0.000000</td>\n",
       "      <td>0.000000</td>\n",
       "      <td>0.000000</td>\n",
       "      <td>0.000000</td>\n",
       "      <td>0.000000</td>\n",
       "      <td>0.000000</td>\n",
       "    </tr>\n",
       "    <tr>\n",
       "      <th>Twitter</th>\n",
       "      <td>0.000000</td>\n",
       "      <td>1.7910</td>\n",
       "      <td>3.000000</td>\n",
       "      <td>1.596856</td>\n",
       "      <td>3.0000</td>\n",
       "      <td>2.020172</td>\n",
       "      <td>3.000000</td>\n",
       "      <td>3.000000</td>\n",
       "      <td>3.000000</td>\n",
       "      <td>0.000000</td>\n",
       "      <td>0.000000</td>\n",
       "      <td>0.000000</td>\n",
       "    </tr>\n",
       "    <tr>\n",
       "      <th>Email</th>\n",
       "      <td>3.000000</td>\n",
       "      <td>0.0000</td>\n",
       "      <td>0.000000</td>\n",
       "      <td>0.000000</td>\n",
       "      <td>3.0000</td>\n",
       "      <td>3.000000</td>\n",
       "      <td>0.000000</td>\n",
       "      <td>3.000000</td>\n",
       "      <td>1.362933</td>\n",
       "      <td>2.955475</td>\n",
       "      <td>3.000000</td>\n",
       "      <td>3.000000</td>\n",
       "    </tr>\n",
       "  </tbody>\n",
       "</table>\n",
       "</div>"
      ],
      "text/plain": [
       "            January  February     March     April     May      June      July  \\\n",
       "Print      3.000000    3.0000  0.000000  0.000000  1.8041  3.000000  1.123777   \n",
       "TV         0.000000    0.0000  0.000000  0.000000  0.0000  0.000000  0.000000   \n",
       "SEO        0.000000    0.0000  0.000000  0.000000  0.0000  0.000000  0.000000   \n",
       "AdWords    1.333333    2.3955  3.000000  3.000000  0.0000  0.000000  3.000000   \n",
       "Facebook   0.000000    3.0000  0.000000  0.000000  0.0000  0.000000  1.123777   \n",
       "LinkedIn   0.000000    0.0000  3.000000  3.000000  0.0000  0.000000  0.000000   \n",
       "Instagram  2.666667    0.0000  1.389648  3.000000  3.0000  3.000000  3.000000   \n",
       "Snapchat   0.000000    0.0000  0.000000  0.000000  0.0000  0.000000  0.000000   \n",
       "Twitter    0.000000    1.7910  3.000000  1.596856  3.0000  2.020172  3.000000   \n",
       "Email      3.000000    0.0000  0.000000  0.000000  3.0000  3.000000  0.000000   \n",
       "\n",
       "             August  September   October  November  December  \n",
       "Print      3.000000   1.362933  0.000000  3.000000  3.000000  \n",
       "TV         0.000000   0.000000  0.000000  0.000000  3.000000  \n",
       "SEO        0.000000   0.000000  0.000000  0.000000  0.000000  \n",
       "AdWords    1.827294   3.000000  3.000000  2.056421  0.427951  \n",
       "Facebook   0.000000   0.000000  0.000000  0.000000  3.000000  \n",
       "LinkedIn   0.654588   3.000000  3.000000  1.112842  0.000000  \n",
       "Instagram  0.000000   0.000000  3.000000  3.000000  0.000000  \n",
       "Snapchat   0.000000   0.000000  0.000000  0.000000  0.000000  \n",
       "Twitter    3.000000   3.000000  0.000000  0.000000  0.000000  \n",
       "Email      3.000000   1.362933  2.955475  3.000000  3.000000  "
      ]
     },
     "execution_count": 60,
     "metadata": {},
     "output_type": "execute_result"
    }
   ],
   "source": [
    "months = roi_det_df.iloc[:,0].tolist()\n",
    "reinvested_amount = 0\n",
    "m_budget = 10\n",
    "month_allocation = {}\n",
    "counter = 0\n",
    "for m in months:\n",
    "    MarkMonthMod=gp.Model()\n",
    "    MarkMonthModX = MarkMonthMod.addMVar(len(channels),name=channels)\n",
    "    MarkMonthMod.setObjective(gp.quicksum((roi_det_df.iloc[counter][i+1]/100)*MarkMonthModX[i] for i in range(len(channels))),sense=gp.GRB.MAXIMIZE)\n",
    "    consls=[0]*3\n",
    "    consls[0] = MarkMonthMod.addConstr(MarkMonthModX[channels.index('Print')]+MarkMonthModX[channels.index('TV')] <= MarkMonthModX[channels.index('Facebook')]+MarkMonthModX[channels.index('Email')])\n",
    "    consls[1] = MarkMonthMod.addConstr(MarkMonthModX[channels.index('Facebook')]+MarkMonthModX[channels.index('LinkedIn')]+MarkMonthModX[channels.index('Instagram')]+MarkMonthModX[channels.index('Snapchat')]+MarkMonthModX[channels.index('Twitter')] >= 2*(MarkMonthModX[channels.index('SEO')]+MarkMonthModX[channels.index('AdWords')]))\n",
    "    consls[2] = MarkMonthMod.addConstr(gp.quicksum(MarkMonthModX[i]for i in range(len(channels))) <= (m_budget + reinvested_amount)) \n",
    "    varimonth = MarkMonthMod.addConstrs((MarkMonthModX[i] <=3) for i in range(len(channels)))\n",
    "    MarkMonthMod.Params.OutputFlag = 0\n",
    "    MarkMonthMod.optimize()\n",
    "    curr_obj = MarkMonthMod.objVal\n",
    "    print(curr_obj)\n",
    "    month_allocation[m] = list(MarkMonthModX.x)\n",
    "    reinvested_amount = reinvested_amount + 0.5 * curr_obj\n",
    "    counter +=1\n",
    "\n",
    "df_all = pd.DataFrame(month_allocation)\n",
    "\n",
    "df_all = df_all.rename(index=dict(zip(df_all.index, channels)))\n",
    "df_all"
   ]
  },
  {
   "cell_type": "code",
   "execution_count": 61,
   "id": "9fb04bb0",
   "metadata": {},
   "outputs": [],
   "source": [
    "result_df = pd.DataFrame()\n",
    "for i in range(df_all.shape[1] - 1):\n",
    "    column_name = df_all.columns[i]\n",
    "    next_column_name = df_all.columns[i + 1]\n",
    "    result_column_name = f'{column_name} - {next_column_name}'\n",
    "    result_df[result_column_name] = df_all[next_column_name] - df_all[column_name]\n"
   ]
  },
  {
   "cell_type": "code",
   "execution_count": 62,
   "id": "755f7f7f",
   "metadata": {},
   "outputs": [
    {
     "data": {
      "text/html": [
       "<div>\n",
       "<style scoped>\n",
       "    .dataframe tbody tr th:only-of-type {\n",
       "        vertical-align: middle;\n",
       "    }\n",
       "\n",
       "    .dataframe tbody tr th {\n",
       "        vertical-align: top;\n",
       "    }\n",
       "\n",
       "    .dataframe thead th {\n",
       "        text-align: right;\n",
       "    }\n",
       "</style>\n",
       "<table border=\"1\" class=\"dataframe\">\n",
       "  <thead>\n",
       "    <tr style=\"text-align: right;\">\n",
       "      <th></th>\n",
       "      <th>January - February</th>\n",
       "      <th>February - March</th>\n",
       "      <th>March - April</th>\n",
       "      <th>April - May</th>\n",
       "      <th>May - June</th>\n",
       "      <th>June - July</th>\n",
       "      <th>July - August</th>\n",
       "      <th>August - September</th>\n",
       "      <th>September - October</th>\n",
       "      <th>October - November</th>\n",
       "      <th>November - December</th>\n",
       "    </tr>\n",
       "  </thead>\n",
       "  <tbody>\n",
       "    <tr>\n",
       "      <th>Print</th>\n",
       "      <td>0.000000</td>\n",
       "      <td>-3.000000</td>\n",
       "      <td>0.000000</td>\n",
       "      <td>1.804100</td>\n",
       "      <td>1.195900</td>\n",
       "      <td>-1.876223</td>\n",
       "      <td>1.876223</td>\n",
       "      <td>-1.637067</td>\n",
       "      <td>-1.362933</td>\n",
       "      <td>3.000000</td>\n",
       "      <td>0.000000</td>\n",
       "    </tr>\n",
       "    <tr>\n",
       "      <th>TV</th>\n",
       "      <td>0.000000</td>\n",
       "      <td>0.000000</td>\n",
       "      <td>0.000000</td>\n",
       "      <td>0.000000</td>\n",
       "      <td>0.000000</td>\n",
       "      <td>0.000000</td>\n",
       "      <td>0.000000</td>\n",
       "      <td>0.000000</td>\n",
       "      <td>0.000000</td>\n",
       "      <td>0.000000</td>\n",
       "      <td>3.000000</td>\n",
       "    </tr>\n",
       "    <tr>\n",
       "      <th>SEO</th>\n",
       "      <td>0.000000</td>\n",
       "      <td>0.000000</td>\n",
       "      <td>0.000000</td>\n",
       "      <td>0.000000</td>\n",
       "      <td>0.000000</td>\n",
       "      <td>0.000000</td>\n",
       "      <td>0.000000</td>\n",
       "      <td>0.000000</td>\n",
       "      <td>0.000000</td>\n",
       "      <td>0.000000</td>\n",
       "      <td>0.000000</td>\n",
       "    </tr>\n",
       "    <tr>\n",
       "      <th>AdWords</th>\n",
       "      <td>1.062167</td>\n",
       "      <td>0.604500</td>\n",
       "      <td>0.000000</td>\n",
       "      <td>-3.000000</td>\n",
       "      <td>0.000000</td>\n",
       "      <td>3.000000</td>\n",
       "      <td>-1.172706</td>\n",
       "      <td>1.172706</td>\n",
       "      <td>0.000000</td>\n",
       "      <td>-0.943579</td>\n",
       "      <td>-1.628470</td>\n",
       "    </tr>\n",
       "    <tr>\n",
       "      <th>Facebook</th>\n",
       "      <td>3.000000</td>\n",
       "      <td>-3.000000</td>\n",
       "      <td>0.000000</td>\n",
       "      <td>0.000000</td>\n",
       "      <td>0.000000</td>\n",
       "      <td>1.123777</td>\n",
       "      <td>-1.123777</td>\n",
       "      <td>0.000000</td>\n",
       "      <td>0.000000</td>\n",
       "      <td>0.000000</td>\n",
       "      <td>3.000000</td>\n",
       "    </tr>\n",
       "    <tr>\n",
       "      <th>LinkedIn</th>\n",
       "      <td>0.000000</td>\n",
       "      <td>3.000000</td>\n",
       "      <td>0.000000</td>\n",
       "      <td>-3.000000</td>\n",
       "      <td>0.000000</td>\n",
       "      <td>0.000000</td>\n",
       "      <td>0.654588</td>\n",
       "      <td>2.345412</td>\n",
       "      <td>0.000000</td>\n",
       "      <td>-1.887158</td>\n",
       "      <td>-1.112842</td>\n",
       "    </tr>\n",
       "    <tr>\n",
       "      <th>Instagram</th>\n",
       "      <td>-2.666667</td>\n",
       "      <td>1.389648</td>\n",
       "      <td>1.610352</td>\n",
       "      <td>0.000000</td>\n",
       "      <td>0.000000</td>\n",
       "      <td>0.000000</td>\n",
       "      <td>-3.000000</td>\n",
       "      <td>0.000000</td>\n",
       "      <td>3.000000</td>\n",
       "      <td>0.000000</td>\n",
       "      <td>-3.000000</td>\n",
       "    </tr>\n",
       "    <tr>\n",
       "      <th>Snapchat</th>\n",
       "      <td>0.000000</td>\n",
       "      <td>0.000000</td>\n",
       "      <td>0.000000</td>\n",
       "      <td>0.000000</td>\n",
       "      <td>0.000000</td>\n",
       "      <td>0.000000</td>\n",
       "      <td>0.000000</td>\n",
       "      <td>0.000000</td>\n",
       "      <td>0.000000</td>\n",
       "      <td>0.000000</td>\n",
       "      <td>0.000000</td>\n",
       "    </tr>\n",
       "    <tr>\n",
       "      <th>Twitter</th>\n",
       "      <td>1.791000</td>\n",
       "      <td>1.209000</td>\n",
       "      <td>-1.403144</td>\n",
       "      <td>1.403144</td>\n",
       "      <td>-0.979828</td>\n",
       "      <td>0.979828</td>\n",
       "      <td>0.000000</td>\n",
       "      <td>0.000000</td>\n",
       "      <td>-3.000000</td>\n",
       "      <td>0.000000</td>\n",
       "      <td>0.000000</td>\n",
       "    </tr>\n",
       "    <tr>\n",
       "      <th>Email</th>\n",
       "      <td>-3.000000</td>\n",
       "      <td>0.000000</td>\n",
       "      <td>0.000000</td>\n",
       "      <td>3.000000</td>\n",
       "      <td>0.000000</td>\n",
       "      <td>-3.000000</td>\n",
       "      <td>3.000000</td>\n",
       "      <td>-1.637067</td>\n",
       "      <td>1.592543</td>\n",
       "      <td>0.044525</td>\n",
       "      <td>0.000000</td>\n",
       "    </tr>\n",
       "  </tbody>\n",
       "</table>\n",
       "</div>"
      ],
      "text/plain": [
       "           January - February  February - March  March - April  April - May  \\\n",
       "Print                0.000000         -3.000000       0.000000     1.804100   \n",
       "TV                   0.000000          0.000000       0.000000     0.000000   \n",
       "SEO                  0.000000          0.000000       0.000000     0.000000   \n",
       "AdWords              1.062167          0.604500       0.000000    -3.000000   \n",
       "Facebook             3.000000         -3.000000       0.000000     0.000000   \n",
       "LinkedIn             0.000000          3.000000       0.000000    -3.000000   \n",
       "Instagram           -2.666667          1.389648       1.610352     0.000000   \n",
       "Snapchat             0.000000          0.000000       0.000000     0.000000   \n",
       "Twitter              1.791000          1.209000      -1.403144     1.403144   \n",
       "Email               -3.000000          0.000000       0.000000     3.000000   \n",
       "\n",
       "           May - June  June - July  July - August  August - September  \\\n",
       "Print        1.195900    -1.876223       1.876223           -1.637067   \n",
       "TV           0.000000     0.000000       0.000000            0.000000   \n",
       "SEO          0.000000     0.000000       0.000000            0.000000   \n",
       "AdWords      0.000000     3.000000      -1.172706            1.172706   \n",
       "Facebook     0.000000     1.123777      -1.123777            0.000000   \n",
       "LinkedIn     0.000000     0.000000       0.654588            2.345412   \n",
       "Instagram    0.000000     0.000000      -3.000000            0.000000   \n",
       "Snapchat     0.000000     0.000000       0.000000            0.000000   \n",
       "Twitter     -0.979828     0.979828       0.000000            0.000000   \n",
       "Email        0.000000    -3.000000       3.000000           -1.637067   \n",
       "\n",
       "           September - October  October - November  November - December  \n",
       "Print                -1.362933            3.000000             0.000000  \n",
       "TV                    0.000000            0.000000             3.000000  \n",
       "SEO                   0.000000            0.000000             0.000000  \n",
       "AdWords               0.000000           -0.943579            -1.628470  \n",
       "Facebook              0.000000            0.000000             3.000000  \n",
       "LinkedIn              0.000000           -1.887158            -1.112842  \n",
       "Instagram             3.000000            0.000000            -3.000000  \n",
       "Snapchat              0.000000            0.000000             0.000000  \n",
       "Twitter              -3.000000            0.000000             0.000000  \n",
       "Email                 1.592543            0.044525             0.000000  "
      ]
     },
     "execution_count": 62,
     "metadata": {},
     "output_type": "execute_result"
    }
   ],
   "source": [
    "result_df"
   ]
  },
  {
   "cell_type": "markdown",
   "id": "25a9e26b",
   "metadata": {},
   "source": [
    "<div style=\"background-color: #f0f8ff; padding: 10px;\">\n",
    "   <font color=\"black\" face=\"verdana\" size=\"3\"> \n",
    "\n",
    "8. A stable budget is defined as a monthly allocation such that for each platform the monthly change in spend is no more than $1M. Is the allocation you found stable? If it isn’t, you do not need to solve a new optimization model. Describe how my might model this?\n",
    "\n",
    "</font>\n",
    "</div>"
   ]
  },
  {
   "cell_type": "markdown",
   "id": "9bfa9193",
   "metadata": {},
   "source": [
    "<div style=\"background-color: #f0f8ff; padding: 10px;\">\n",
    "   <font color=\"black\" face=\"verdana\" size=\"3\"> \n",
    "\n",
    "The allocations above are not stable. To address this issue, we can add a stability constraint. We can store the current montly allocation for each platform in a list and add a constraint for the next iteration such that the next optimized value of allocation minus the current one will be lesser than or equal to 1. \n",
    "\n",
    "This should help us in making sure we have a stable budget allocation.\n",
    "\n",
    "</font>\n",
    "</div>"
   ]
  }
 ],
 "metadata": {
  "kernelspec": {
   "display_name": "Python 3 (ipykernel)",
   "language": "python",
   "name": "python3"
  },
  "language_info": {
   "codemirror_mode": {
    "name": "ipython",
    "version": 3
   },
   "file_extension": ".py",
   "mimetype": "text/x-python",
   "name": "python",
   "nbconvert_exporter": "python",
   "pygments_lexer": "ipython3",
   "version": "3.10.9"
  },
  "toc": {
   "base_numbering": 1,
   "nav_menu": {},
   "number_sections": true,
   "sideBar": true,
   "skip_h1_title": false,
   "title_cell": "Table of Contents",
   "title_sidebar": "Contents",
   "toc_cell": false,
   "toc_position": {},
   "toc_section_display": true,
   "toc_window_display": false
  },
  "varInspector": {
   "cols": {
    "lenName": 16,
    "lenType": 16,
    "lenVar": 40
   },
   "kernels_config": {
    "python": {
     "delete_cmd_postfix": "",
     "delete_cmd_prefix": "del ",
     "library": "var_list.py",
     "varRefreshCmd": "print(var_dic_list())"
    },
    "r": {
     "delete_cmd_postfix": ") ",
     "delete_cmd_prefix": "rm(",
     "library": "var_list.r",
     "varRefreshCmd": "cat(var_dic_list()) "
    }
   },
   "types_to_exclude": [
    "module",
    "function",
    "builtin_function_or_method",
    "instance",
    "_Feature"
   ],
   "window_display": false
  }
 },
 "nbformat": 4,
 "nbformat_minor": 5
}
