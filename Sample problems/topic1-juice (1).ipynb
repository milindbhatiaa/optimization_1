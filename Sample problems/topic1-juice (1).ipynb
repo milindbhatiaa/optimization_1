{
 "cells": [
  {
   "cell_type": "code",
   "execution_count": null,
   "metadata": {
    "id": "U3wtgcWD3E6L"
   },
   "outputs": [],
   "source": [
    "!pip install gurobipy"
   ]
  },
  {
   "cell_type": "code",
   "execution_count": null,
   "metadata": {
    "id": "Y-833b983D9e"
   },
   "outputs": [],
   "source": [
    "import numpy as np\n",
    "import gurobipy as gp"
   ]
  },
  {
   "cell_type": "markdown",
   "metadata": {
    "id": "qUL1ngUI3D9h"
   },
   "source": [
    "# Juice Glass Example"
   ]
  },
  {
   "cell_type": "code",
   "execution_count": null,
   "metadata": {
    "id": "cQDyGafC3D99"
   },
   "outputs": [],
   "source": [
    "# create an empty gurobi model\n",
    "# we will then tell it what the decision variables are along with objective and constraints.\n",
    "ojMod=gp.Model()\n"
   ]
  },
  {
   "cell_type": "code",
   "execution_count": null,
   "metadata": {},
   "outputs": [],
   "source": [
    "# we first define the variables\n",
    "# the variables will be used in the objective and constraints\n",
    "ojModX = ojMod.addMVar(2) # tell the model how many variables there are"
   ]
  },
  {
   "cell_type": "code",
   "execution_count": null,
   "metadata": {},
   "outputs": [],
   "source": [
    "# using the decision variables, input the objective\n",
    "ojMod.setObjective(500*ojModX[0] + 450*ojModX[1],sense=gp.GRB.MAXIMIZE)\n",
    "# by default gurobi wants to minimize.  so we must tell it that we're maximizing\n"
   ]
  },
  {
   "cell_type": "code",
   "execution_count": null,
   "metadata": {},
   "outputs": [],
   "source": [
    "# using the decision variables define the constraints\n",
    "# first create an empty list that has as many entries as there are constraints\n",
    "conlist=[0]*3\n",
    "# then come back and change the list entries one by one to represent each constraint\n",
    "conlist[0] = ojMod.addConstr(6*ojModX[0] + 5*ojModX[1] <= 60)\n",
    "conlist[1] = ojMod.addConstr(1000*ojModX[0] + 2000*ojModX[1] <= 15000)\n",
    "conlist[2] = ojMod.addConstr(ojModX[0] <= 8)"
   ]
  },
  {
   "cell_type": "code",
   "execution_count": null,
   "metadata": {},
   "outputs": [],
   "source": [
    "# ojMod.Params.OutputFlag = 0 # tell gurobi to shut up!!\n",
    "\n",
    "ojMod.optimize() # solve the model"
   ]
  },
  {
   "cell_type": "code",
   "execution_count": null,
   "metadata": {},
   "outputs": [],
   "source": [
    "ojMod.objVal # print the optimal objective value"
   ]
  },
  {
   "cell_type": "code",
   "execution_count": null,
   "metadata": {},
   "outputs": [],
   "source": [
    "ojModX.x # print the optimal decision variables"
   ]
  },
  {
   "cell_type": "code",
   "execution_count": null,
   "metadata": {
    "colab": {
     "background_save": true
    },
    "id": "9vwrvVl1XUiG"
   },
   "outputs": [],
   "source": []
  },
  {
   "cell_type": "code",
   "execution_count": null,
   "metadata": {},
   "outputs": [],
   "source": []
  }
 ],
 "metadata": {
  "colab": {
   "provenance": []
  },
  "kernelspec": {
   "display_name": "Python 3 (ipykernel)",
   "language": "python",
   "name": "python3"
  },
  "language_info": {
   "codemirror_mode": {
    "name": "ipython",
    "version": 3
   },
   "file_extension": ".py",
   "mimetype": "text/x-python",
   "name": "python",
   "nbconvert_exporter": "python",
   "pygments_lexer": "ipython3",
   "version": "3.7.13"
  }
 },
 "nbformat": 4,
 "nbformat_minor": 1
}
