{
 "cells": [
  {
   "cell_type": "code",
   "execution_count": null,
   "metadata": {
    "id": "U3wtgcWD3E6L"
   },
   "outputs": [],
   "source": [
    "!pip install gurobipy"
   ]
  },
  {
   "cell_type": "code",
   "execution_count": null,
   "metadata": {
    "id": "Y-833b983D9e"
   },
   "outputs": [],
   "source": [
    "import numpy as np\n",
    "import gurobipy as gp"
   ]
  },
  {
   "cell_type": "markdown",
   "metadata": {
    "id": "gm7tUoIL3D9_"
   },
   "source": [
    "# Train Example"
   ]
  },
  {
   "cell_type": "code",
   "execution_count": null,
   "metadata": {
    "id": "tejQJDLXOblB"
   },
   "outputs": [],
   "source": [
    "objvec = [2000,2500,5000,3500]\n",
    "density = [400,300,200,500]\n",
    "weightmax = [10,8,12]\n",
    "volmax = [5000,4000,8000]\n",
    "availmax=[18,10,5,20]"
   ]
  },
  {
   "cell_type": "code",
   "execution_count": null,
   "metadata": {
    "id": "a9ywUVPQ3D-B"
   },
   "outputs": [],
   "source": [
    "trainMod = gp.Model()\n",
    "\n",
    "Trainx = trainMod.addMVar((3,4)) # tell the model how many variables there are...this can be a multi-dimensional array of variables\n"
   ]
  },
  {
   "cell_type": "code",
   "execution_count": null,
   "metadata": {
    "id": "vs6ZER8k3D-C"
   },
   "outputs": [],
   "source": [
    "# let's add constraints first\n",
    "# we could add each constraint individually\n",
    "wcons = [0]*3\n",
    "wcons[0] = trainMod.addConstr(Trainx[0,0]+Trainx[0,1]+Trainx[0,2]+Trainx[0,3] <= weightmax[0])\n",
    "wcons[1] = trainMod.addConstr(Trainx[1,0]+Trainx[1,1]+Trainx[1,2]+Trainx[1,3] <= weightmax[1])\n",
    "wcons[2] = trainMod.addConstr(Trainx[2,0]+Trainx[2,1]+Trainx[2,2]+Trainx[2,3] <= weightmax[2])\n",
    "\n"
   ]
  },
  {
   "cell_type": "code",
   "execution_count": null,
   "metadata": {},
   "outputs": [],
   "source": [
    "# that was a bit burdensome\n",
    "# a slightly faster way to do it is with gp.quicksum\n",
    "wcons = [0]*3\n",
    "wcons[0] = trainMod.addConstr(gp.quicksum(Trainx[0,j] for j in range(4)) <= weightmax[0])\n",
    "wcons[1] = trainMod.addConstr(gp.quicksum(Trainx[1,j] for j in range(4)) <= weightmax[1])\n",
    "wcons[2] = trainMod.addConstr(gp.quicksum(Trainx[2,j] for j in range(4)) <= weightmax[2])\n"
   ]
  },
  {
   "cell_type": "code",
   "execution_count": null,
   "metadata": {},
   "outputs": [],
   "source": [
    "# we can actually add all these constraints at the same time using addConstrs\n",
    "wcons = trainMod.addConstrs((gp.quicksum(Trainx[i,j] for j in range(4))<=weightmax[i]) for i in range(3))\n"
   ]
  },
  {
   "cell_type": "code",
   "execution_count": null,
   "metadata": {},
   "outputs": [],
   "source": [
    "# volume constraints\n",
    "vcons = trainMod.addConstrs((gp.quicksum(density[j]*Trainx[i,j] for j in range(4))<=volmax[i]) for i in range(3))\n",
    "# availability constraints\n",
    "acons = trainMod.addConstrs((gp.quicksum(Trainx[i,j] for i in range(3))<=availmax[j]) for j in range(4))\n"
   ]
  },
  {
   "cell_type": "code",
   "execution_count": null,
   "metadata": {},
   "outputs": [],
   "source": [
    "# objective\n",
    "trainMod.setObjective(gp.quicksum(objvec[j]*Trainx[i,j] for i in range(3) for j in range(4)),gp.GRB.MAXIMIZE)"
   ]
  },
  {
   "cell_type": "code",
   "execution_count": null,
   "metadata": {},
   "outputs": [],
   "source": [
    "trainMod.Params.OutputFlag = 0 # tell gurobi to shut up!!\n",
    "trainMod.optimize()"
   ]
  },
  {
   "cell_type": "code",
   "execution_count": null,
   "metadata": {
    "id": "NK9PKwjf3D-D"
   },
   "outputs": [],
   "source": [
    "Trainx.x"
   ]
  },
  {
   "cell_type": "code",
   "execution_count": null,
   "metadata": {
    "id": "_iWxAsMV3D-E"
   },
   "outputs": [],
   "source": [
    "trainMod.objVal"
   ]
  },
  {
   "cell_type": "code",
   "execution_count": null,
   "metadata": {},
   "outputs": [],
   "source": []
  }
 ],
 "metadata": {
  "colab": {
   "provenance": []
  },
  "kernelspec": {
   "display_name": "Python 3 (ipykernel)",
   "language": "python",
   "name": "python3"
  },
  "language_info": {
   "codemirror_mode": {
    "name": "ipython",
    "version": 3
   },
   "file_extension": ".py",
   "mimetype": "text/x-python",
   "name": "python",
   "nbconvert_exporter": "python",
   "pygments_lexer": "ipython3",
   "version": "3.7.13"
  }
 },
 "nbformat": 4,
 "nbformat_minor": 1
}
