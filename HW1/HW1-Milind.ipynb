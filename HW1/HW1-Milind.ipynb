{
 "cells": [
  {
   "cell_type": "markdown",
   "metadata": {},
   "source": [
    "#### Q2"
   ]
  },
  {
   "cell_type": "code",
   "execution_count": 1,
   "metadata": {},
   "outputs": [],
   "source": [
    "import numpy as np\n",
    "import gurobipy as gp"
   ]
  },
  {
   "cell_type": "code",
   "execution_count": 3,
   "metadata": {},
   "outputs": [
    {
     "name": "stdout",
     "output_type": "stream",
     "text": [
      "Set parameter Username\n",
      "Academic license - for non-commercial use only - expires 2024-08-22\n"
     ]
    }
   ],
   "source": [
    "fmMod=gp.Model()\n",
    "fmModX = fmMod.addMVar(2)"
   ]
  },
  {
   "cell_type": "code",
   "execution_count": 5,
   "metadata": {},
   "outputs": [],
   "source": [
    "fmMod.setObjective(2000*fmModX[0] + 3000*fmModX[1],sense=gp.GRB.MAXIMIZE)"
   ]
  },
  {
   "cell_type": "code",
   "execution_count": 6,
   "metadata": {},
   "outputs": [],
   "source": [
    "conlist=[0]*3\n",
    "# then come back and change the list entries one by one to represent each constraint\n",
    "conlist[0] = fmMod.addConstr(fmModX[0] + fmModX[1] <= 450)\n",
    "conlist[1] = fmMod.addConstr(3*fmModX[0] + 2*fmModX[1] <= 1000)\n",
    "conlist[2] = fmMod.addConstr(2*fmModX[0] + 4*fmModX[1] <= 1200)"
   ]
  },
  {
   "cell_type": "code",
   "execution_count": 10,
   "metadata": {},
   "outputs": [
    {
     "data": {
      "text/plain": [
       "1000000.0"
      ]
     },
     "execution_count": 10,
     "metadata": {},
     "output_type": "execute_result"
    }
   ],
   "source": [
    "fmMod.Params.OutputFlag = 0\n",
    "fmMod.optimize() # solve the model\n",
    "fmMod.objVal # print the optimal objective value"
   ]
  },
  {
   "cell_type": "code",
   "execution_count": 11,
   "metadata": {},
   "outputs": [
    {
     "data": {
      "text/plain": [
       "array([200., 200.])"
      ]
     },
     "execution_count": 11,
     "metadata": {},
     "output_type": "execute_result"
    }
   ],
   "source": [
    "fmModX.x # print the optimal decision variables"
   ]
  },
  {
   "cell_type": "code",
   "execution_count": 21,
   "metadata": {},
   "outputs": [
    {
     "name": "stdout",
     "output_type": "stream",
     "text": [
      "200\n",
      "200000.0\n",
      "[100.   0.]\n",
      "===========\n",
      "300\n",
      "300000.0\n",
      "[150.   0.]\n",
      "===========\n",
      "400\n",
      "400000.0\n",
      "[200.   0.]\n",
      "===========\n",
      "500\n",
      "500000.0\n",
      "[250.   0.]\n",
      "===========\n",
      "600\n",
      "600000.0\n",
      "[300.   0.]\n",
      "===========\n",
      "700\n",
      "687500.0\n",
      "[325.   12.5]\n",
      "===========\n",
      "800\n",
      "750000.0\n",
      "[300.  50.]\n",
      "===========\n",
      "900\n",
      "812500.0\n",
      "[275.   87.5]\n",
      "===========\n",
      "1000\n",
      "875000.0\n",
      "[250. 125.]\n",
      "===========\n",
      "1100\n",
      "937500.0\n",
      "[225.  162.5]\n",
      "===========\n",
      "1200\n",
      "1000000.0\n",
      "[200. 200.]\n",
      "===========\n",
      "1300\n",
      "1062500.0\n",
      "[175.  237.5]\n",
      "===========\n",
      "1400\n",
      "1125000.0\n",
      "[150. 275.]\n",
      "===========\n",
      "1500\n",
      "1187500.0\n",
      "[125.  312.5]\n",
      "===========\n",
      "1600\n",
      "1250000.0\n",
      "[100. 350.]\n",
      "===========\n",
      "1700\n",
      "1300000.0\n",
      "[ 50. 400.]\n",
      "===========\n",
      "1800\n",
      "1350000.0\n",
      "[  0. 450.]\n",
      "===========\n",
      "1900\n",
      "1350000.0\n",
      "[  0. 450.]\n",
      "===========\n",
      "2000\n",
      "1350000.0\n",
      "[  0. 450.]\n",
      "===========\n",
      "2100\n",
      "1350000.0\n",
      "[  0. 450.]\n",
      "===========\n",
      "2200\n",
      "1350000.0\n",
      "[  0. 450.]\n",
      "===========\n"
     ]
    }
   ],
   "source": [
    "fert = list(range(200,2300,100))\n",
    "for i in fert:\n",
    "    fmMod=gp.Model()\n",
    "    fmModX = fmMod.addMVar(2)\n",
    "    fmMod.setObjective(2000*fmModX[0] + 3000*fmModX[1],sense=gp.GRB.MAXIMIZE)\n",
    "    conlist=[0]*3\n",
    "    conlist[0] = fmMod.addConstr(fmModX[0] + fmModX[1] <= 450)\n",
    "    conlist[1] = fmMod.addConstr(3*fmModX[0] + 2*fmModX[1] <= 1000)\n",
    "    conlist[2] = fmMod.addConstr(2*fmModX[0] + 4*fmModX[1] <= i)\n",
    "    print(i)\n",
    "    fmMod.Params.OutputFlag = 0\n",
    "    fmMod.optimize() # solve the model\n",
    "    print(fmMod.objVal) # print the optimal objective value\n",
    "    print(fmModX.x)\n",
    "    print('===========')"
   ]
  },
  {
   "cell_type": "markdown",
   "metadata": {},
   "source": [
    "#### Q3"
   ]
  },
  {
   "cell_type": "code",
   "execution_count": 32,
   "metadata": {},
   "outputs": [],
   "source": [
    "timez = [11,53,5,5,29]\n",
    "timeo = [3,6,5,1,34]"
   ]
  },
  {
   "cell_type": "code",
   "execution_count": 33,
   "metadata": {},
   "outputs": [],
   "source": [
    "profMod = gp.Model()\n",
    "\n",
    "profModX = profMod.addMVar(5)\n",
    "\n",
    "timezcons = profMod.addConstr(gp.quicksum(profModX[i]*timez[i] for i in range(5))<=40)\n",
    "timeocons = profMod.addConstr(gp.quicksum(profModX[i]*timeo[i] for i in range(5))<=20)\n",
    "wcons = profMod.addConstrs((profModX[i] <=1) for i in range(5))"
   ]
  },
  {
   "cell_type": "code",
   "execution_count": 34,
   "metadata": {},
   "outputs": [],
   "source": [
    "profMod.setObjective(gp.quicksum(npv[i]*profModX[i] for i in range(5)),gp.GRB.MAXIMIZE)"
   ]
  },
  {
   "cell_type": "code",
   "execution_count": 35,
   "metadata": {},
   "outputs": [
    {
     "name": "stdout",
     "output_type": "stream",
     "text": [
      "57.449017199017206\n",
      "[1.         0.20085995 1.         1.         0.28808354]\n"
     ]
    }
   ],
   "source": [
    "profMod.Params.OutputFlag = 0\n",
    "profMod.optimize()\n",
    "print(profMod.objVal)\n",
    "print(profModX.x)"
   ]
  },
  {
   "cell_type": "markdown",
   "metadata": {},
   "source": [
    "#### Q4"
   ]
  },
  {
   "cell_type": "code",
   "execution_count": 36,
   "metadata": {},
   "outputs": [],
   "source": [
    "amount = [107, 500, 0]\n",
    "cal = [72,121,65]\n",
    "cost = [.18,.23,.05]"
   ]
  },
  {
   "cell_type": "code",
   "execution_count": 37,
   "metadata": {},
   "outputs": [
    {
     "name": "stdout",
     "output_type": "stream",
     "text": [
      "Warning for adding constraints: zero or small (< 1e-13) coefficients, ignored\n"
     ]
    }
   ],
   "source": [
    "dietMod = gp.Model()\n",
    "\n",
    "dietModX = dietMod.addMVar(3)\n",
    "\n",
    "amu = dietMod.addConstr(gp.quicksum(dietModX[i]*amount[i] for i in range(3))<=50000)\n",
    "aml = dietMod.addConstr(gp.quicksum(dietModX[i]*amount[i] for i in range(3))>=5000)\n",
    "\n",
    "calu = dietMod.addConstr(gp.quicksum(dietModX[i]*cal[i] for i in range(3))<=2250)\n",
    "call = dietMod.addConstr(gp.quicksum(dietModX[i]*cal[i] for i in range(3))>=2000)\n",
    "\n",
    "wcons = dietMod.addConstrs((dietModX[i] <=10) for i in range(3))"
   ]
  },
  {
   "cell_type": "code",
   "execution_count": 38,
   "metadata": {},
   "outputs": [],
   "source": [
    "dietMod.setObjective(gp.quicksum(cost[i]*dietModX[i] for i in range(3)),gp.GRB.MINIMIZE)"
   ]
  },
  {
   "cell_type": "code",
   "execution_count": 39,
   "metadata": {},
   "outputs": [
    {
     "name": "stdout",
     "output_type": "stream",
     "text": [
      "3.1500000000000004\n",
      "[ 1.94444444 10.         10.        ]\n"
     ]
    }
   ],
   "source": [
    "dietMod.Params.OutputFlag = 0\n",
    "dietMod.optimize()\n",
    "print(dietMod.objVal)\n",
    "print(dietModX.x)"
   ]
  },
  {
   "cell_type": "markdown",
   "metadata": {},
   "source": [
    "#### Q4"
   ]
  },
  {
   "cell_type": "code",
   "execution_count": 73,
   "metadata": {},
   "outputs": [],
   "source": [
    "weights = [[1,1.3,1.4],[1,1.2,1.6]]\n",
    "lower = [1.2,1.5,2]\n",
    "upper = [2,2,3]\n",
    "\n",
    "acres = [2,3]"
   ]
  },
  {
   "cell_type": "code",
   "execution_count": 74,
   "metadata": {},
   "outputs": [],
   "source": [
    "ForMod = gp.Model()\n",
    "\n",
    "ForModX = ForMod.addMVar((2,3))"
   ]
  },
  {
   "cell_type": "code",
   "execution_count": 75,
   "metadata": {},
   "outputs": [],
   "source": [
    "acrcon = ForMod.addConstrs((gp.quicksum(ForModX[i][j] for j in range(3))<=1) for i in range(2))\n",
    "\n",
    "yearl = ForMod.addConstrs((gp.quicksum(acres[i]*ForModX[i][j]*weights[i][j] for i in range(2))>=lower[j]) for j in range(3))\n",
    "yearu = ForMod.addConstrs((gp.quicksum(acres[i]*ForModX[i][j]*weights[i][j] for i in range(2))<=upper[j]) for j in range(3))"
   ]
  },
  {
   "cell_type": "code",
   "execution_count": 76,
   "metadata": {},
   "outputs": [],
   "source": [
    "ForMod.setObjective(gp.quicksum(acres[i]*ForModX[i][j]*weights[i][j] for i in range(2) for j in range(3)),gp.GRB.MAXIMIZE)"
   ]
  },
  {
   "cell_type": "code",
   "execution_count": 77,
   "metadata": {},
   "outputs": [
    {
     "name": "stdout",
     "output_type": "stream",
     "text": [
      "6.586538461538462\n",
      "[[0.23076923 0.76923077 0.        ]\n",
      " [0.375      0.         0.625     ]]\n"
     ]
    }
   ],
   "source": [
    "ForMod.Params.OutputFlag = 0\n",
    "ForMod.optimize()\n",
    "print(ForMod.objVal)\n",
    "print(ForModX.x)"
   ]
  },
  {
   "cell_type": "code",
   "execution_count": 84,
   "metadata": {},
   "outputs": [
    {
     "data": {
      "text/plain": [
       "1.87"
      ]
     },
     "execution_count": 84,
     "metadata": {},
     "output_type": "execute_result"
    }
   ],
   "source": [
    "np.round(ForModX[1][2].x*3,2)"
   ]
  },
  {
   "cell_type": "code",
   "execution_count": null,
   "metadata": {},
   "outputs": [],
   "source": []
  }
 ],
 "metadata": {
  "kernelspec": {
   "display_name": "base",
   "language": "python",
   "name": "python3"
  },
  "language_info": {
   "codemirror_mode": {
    "name": "ipython",
    "version": 3
   },
   "file_extension": ".py",
   "mimetype": "text/x-python",
   "name": "python",
   "nbconvert_exporter": "python",
   "pygments_lexer": "ipython3",
   "version": "3.10.9"
  },
  "orig_nbformat": 4
 },
 "nbformat": 4,
 "nbformat_minor": 2
}
